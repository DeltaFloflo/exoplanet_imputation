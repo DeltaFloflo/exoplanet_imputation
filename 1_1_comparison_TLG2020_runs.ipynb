{
 "cells": [
  {
   "cell_type": "markdown",
   "id": "84afff3d",
   "metadata": {},
   "source": [
    "# 1.1. Comparison with Tasker et al. 2020\n",
    "\n",
    "Here we run the data imputation algorithms using the same dataset as TLG2020: 550 planets and a specific train/test data split.  \n",
    "We separate Transit case and RV case, and save the results."
   ]
  },
  {
   "cell_type": "code",
   "execution_count": 74,
   "id": "27018f66",
   "metadata": {},
   "outputs": [],
   "source": [
    "import pickle\n",
    "import numpy as np\n",
    "import pandas as pd\n",
    "import seaborn as sns\n",
    "import matplotlib.pyplot as plt\n",
    "\n",
    "from sklearn.experimental import enable_iterative_imputer\n",
    "from sklearn.impute import SimpleImputer, IterativeImputer, KNNImputer\n",
    "from sklearn.linear_model import BayesianRidge\n",
    "from sklearn.ensemble import ExtraTreesRegressor\n",
    "\n",
    "from knnxkde import KNNxKDE\n",
    "from utils import normalization, renormalization, compute_epsilon\n",
    "from GAIN.gain import gain"
   ]
  },
  {
   "cell_type": "code",
   "execution_count": 3,
   "id": "0b7a2468",
   "metadata": {},
   "outputs": [],
   "source": [
    "rv_dists = np.load('data/mdists__mask[001111]Ndist2000_2018-08-23_mcsteps3000_loss-0.32_multitrain0_0.npy')\n",
    "transit_dists = np.load('data/mdists__mask[101111]Ndist2000_2018-08-23_mcsteps3000_loss-0.32_multitrain0_0.npy')"
   ]
  },
  {
   "cell_type": "code",
   "execution_count": 4,
   "id": "1fcfbb4f",
   "metadata": {},
   "outputs": [],
   "source": [
    "colnames = ['idx', 'pl_name', 'pl_radj', 'pl_bmassj', 'pl_orbper', 'pl_teq', 'pl_pnum', 'st_mass']\n",
    "all_planets = pd.read_csv('data/NEA_radmasstpersmasspnum.csv', names=colnames, sep=',', skiprows=1)\n",
    "\n",
    "rs = np.random.RandomState(12345)\n",
    "dataidx = rs.permutation(all_planets.shape[0])  # it's the very same, I have checked\n",
    "\n",
    "train_names = all_planets['pl_name'][dataidx[0:400]]\n",
    "test_names = all_planets['pl_name'][dataidx[400:]]\n",
    "\n",
    "true_masses = np.array(all_planets.iloc[dataidx[400:]]['pl_bmassj'])\n",
    "true_radii = np.array(all_planets.iloc[dataidx[400:]]['pl_radj'])"
   ]
  },
  {
   "cell_type": "markdown",
   "id": "d494c59a",
   "metadata": {},
   "source": [
    "## A. Transit Case"
   ]
  },
  {
   "cell_type": "code",
   "execution_count": 5,
   "id": "92fb25bb",
   "metadata": {},
   "outputs": [],
   "source": [
    "original_data = np.array(all_planets[['pl_radj', 'pl_bmassj', 'pl_orbper', 'pl_teq', 'pl_pnum', 'st_mass']])\n",
    "log_original_data = np.copy(original_data)\n",
    "for d in [0, 1, 2, 3, 5]:\n",
    "    log_original_data[:, d] = np.log(original_data[:, d])  # take the log for all columns except pl_pnum\n",
    "\n",
    "miss_data = np.copy(log_original_data)\n",
    "for idx in dataidx[400:]:\n",
    "    miss_data[idx, 1] = np.nan  # For transit case: hide the mass only\n",
    "\n",
    "norm_miss_data, norm_params = normalization(miss_data)\n",
    "norm_log_original_data, _ = normalization(log_original_data, parameters=norm_params)"
   ]
  },
  {
   "cell_type": "code",
   "execution_count": 6,
   "id": "9e12ba96",
   "metadata": {},
   "outputs": [],
   "source": [
    "MY_TAU = 1.0 / 50.0  # for kNNxKDE\n",
    "MY_NB_NEIGH = 20  # for kNNxKDE\n",
    "MY_NB_NEIGHBOURS = 15\n",
    "MY_NB_TREES = 20\n",
    "MY_NB_ITERS = 2500\n",
    "\n",
    "imputed_masses = {\n",
    "    'rbm_TLG2020': np.zeros(150),\n",
    "    'knnxkde': np.zeros(150),\n",
    "    'knnimputer': np.zeros(150),\n",
    "    'missforest': np.zeros(150),\n",
    "    'gain': np.zeros(150),\n",
    "    'mice': np.zeros(150),\n",
    "    'mean': np.zeros(150),\n",
    "}"
   ]
  },
  {
   "cell_type": "code",
   "execution_count": 7,
   "id": "2071e50e",
   "metadata": {},
   "outputs": [
    {
     "name": "stdout",
     "output_type": "stream",
     "text": [
      "TLG2020 epsilon = 0.9803\n"
     ]
    }
   ],
   "source": [
    "bins = 500  # Reproduce TLG2020 epsilon results: impute with mode\n",
    "logbins = np.logspace(np.log10(0.0001), np.log10(100.0), num=bins)  # in M_J\n",
    "\n",
    "rbm_masses = []\n",
    "for i in range(150):\n",
    "    hist = np.histogram(transit_dists[i, :, 1], bins=logbins, density=False)\n",
    "    mid_points = (hist[1][:-1] + hist[1][1:]) / 2.0\n",
    "    rbm_masses.append(mid_points[np.argmax(hist[0])])\n",
    "imputed_masses['rbm_TLG2020'] = np.array(rbm_masses)\n",
    "\n",
    "eps = compute_epsilon(imputed_masses['rbm_TLG2020'], true_masses)\n",
    "print(f'TLG2020 epsilon = {eps:.4f}')"
   ]
  },
  {
   "cell_type": "code",
   "execution_count": null,
   "id": "2486e5ef",
   "metadata": {},
   "outputs": [],
   "source": [
    "knnxkde = KNNxKDE(h=0.05, tau=MY_TAU, nb_neigh=MY_NB_NEIGH, metric='nan_std_eucl')\n",
    "norm_imputed_data = knnxkde.impute_mean(norm_miss_data, nb_draws=1000)\n",
    "renorm_imputed_data = renormalization(norm_imputed_data, norm_params)\n",
    "imputed_masses['knnxkde'] = np.exp(renorm_imputed_data[dataidx[400:], 1])\n",
    "\n",
    "knnimputer = KNNImputer(n_neighbors=MY_NB_NEIGHBOURS)\n",
    "norm_imputed_data = knnimputer.fit_transform(norm_miss_data)\n",
    "renorm_imputed_data = renormalization(norm_imputed_data, norm_params)\n",
    "imputed_masses['knnimputer'] = np.exp(renorm_imputed_data[dataidx[400:], 1])\n",
    "\n",
    "estimator = ExtraTreesRegressor(n_estimators=MY_NB_TREES)\n",
    "missforest = IterativeImputer(estimator=estimator, max_iter=10, tol=2e-1, verbose=0)\n",
    "norm_imputed_data = missforest.fit_transform(norm_miss_data)\n",
    "renorm_imputed_data = renormalization(norm_imputed_data, norm_params)\n",
    "imputed_masses['missforest'] = np.exp(renorm_imputed_data[dataidx[400:], 1])\n",
    "\n",
    "gain_parameters = {'batch_size': 128, 'hint_rate': 0.9, 'alpha': 100, 'iterations': MY_NB_ITERS}\n",
    "norm_imputed_data = gain(norm_miss_data, gain_parameters)\n",
    "renorm_imputed_data = renormalization(norm_imputed_data, norm_params)\n",
    "imputed_masses['gain'] = np.exp(renorm_imputed_data[dataidx[400:], 1])\n",
    "\n",
    "mice = IterativeImputer(estimator=BayesianRidge(), max_iter=10, tol=2e-1, verbose=0)\n",
    "norm_imputed_data = mice.fit_transform(norm_miss_data)\n",
    "renorm_imputed_data = renormalization(norm_imputed_data, norm_params)\n",
    "imputed_masses['mice'] = np.exp(renorm_imputed_data[dataidx[400:], 1])\n",
    "\n",
    "mean_imputer = SimpleImputer(strategy='mean')\n",
    "norm_imputed_data = mean_imputer.fit_transform(norm_miss_data)\n",
    "renorm_imputed_data = renormalization(norm_imputed_data, norm_params)\n",
    "imputed_masses['mean'] = np.exp(renorm_imputed_data[dataidx[400:], 1])"
   ]
  },
  {
   "cell_type": "code",
   "execution_count": 16,
   "id": "c46d98e7",
   "metadata": {},
   "outputs": [],
   "source": [
    "with open('results_and_figures/comparison_tlg2020/transit_case_imputed_masses.pkl', 'wb') as f:\n",
    "    pickle.dump(imputed_masses, f)"
   ]
  },
  {
   "cell_type": "markdown",
   "id": "863632b2",
   "metadata": {},
   "source": [
    "## B. RV Case"
   ]
  },
  {
   "cell_type": "code",
   "execution_count": 67,
   "id": "ba9c6abb",
   "metadata": {},
   "outputs": [],
   "source": [
    "original_data = np.array(all_planets[['pl_radj', 'pl_bmassj', 'pl_orbper', 'pl_teq', 'pl_pnum', 'st_mass']])\n",
    "log_original_data = np.copy(original_data)\n",
    "for d in [0, 1, 2, 3, 5]:\n",
    "    log_original_data[:, d] = np.log(original_data[:, d])  # take the log for all columns except pl_pnum\n",
    "\n",
    "miss_data = np.copy(log_original_data)\n",
    "for idx in dataidx[400:]:\n",
    "    miss_data[idx, 0] = np.nan  # for the RV case: hide the radius...\n",
    "    miss_data[idx, 1] = np.nan  # and the mass\n",
    "\n",
    "norm_miss_data, norm_params = normalization(miss_data)\n",
    "norm_log_original_data, _ = normalization(log_original_data, parameters=norm_params)"
   ]
  },
  {
   "cell_type": "code",
   "execution_count": 68,
   "id": "aafb0cea",
   "metadata": {},
   "outputs": [],
   "source": [
    "MY_TAU = 1.0 / 50.0  # for kNNxKDE\n",
    "MY_NB_NEIGH = 20  # for kNNxKDE\n",
    "MY_NB_NEIGHBOURS = 15\n",
    "MY_NB_TREES = 20\n",
    "MY_NB_ITERS = 2500\n",
    "\n",
    "imputed_masses = {\n",
    "    'rbm_TLG2020': np.zeros(150),\n",
    "    'knnxkde': np.zeros(150),\n",
    "    'knnimputer': np.zeros(150),\n",
    "    'missforest': np.zeros(150),\n",
    "    'gain': np.zeros(150),\n",
    "    'mice': np.zeros(150),\n",
    "    'mean': np.zeros(150),\n",
    "}\n",
    "\n",
    "imputed_radii = {\n",
    "    'rbm_TLG2020': np.zeros(150),\n",
    "    'knnxkde': np.zeros(150),\n",
    "    'knnimputer': np.zeros(150),\n",
    "    'missforest': np.zeros(150),\n",
    "    'gain': np.zeros(150),\n",
    "    'mice': np.zeros(150),\n",
    "    'mean': np.zeros(150),\n",
    "}"
   ]
  },
  {
   "cell_type": "code",
   "execution_count": 69,
   "id": "abd7f689",
   "metadata": {},
   "outputs": [
    {
     "name": "stdout",
     "output_type": "stream",
     "text": [
      "TLG2020 radius epsilon = 0.5441\n",
      "TLG2020 mass epsilon = 1.2697\n"
     ]
    }
   ],
   "source": [
    "bins = 500  # Reproduce TLG2020 epsilon results: impute with mode\n",
    "logbins_radii = np.logspace(np.log10(0.01), np.log10(10.0), num=bins)  # in R_J\n",
    "logbins_masses = np.logspace(np.log10(0.0001), np.log10(100.0), num=bins)  # in M_J\n",
    "\n",
    "rbm_radii = []\n",
    "rbm_masses = []\n",
    "for i in range(150):\n",
    "    hist_rad = np.histogram(rv_dists[i, :, 0], bins=logbins_radii, density=False)\n",
    "    hist_mass = np.histogram(rv_dists[i, :, 1], bins=logbins_masses, density=False)\n",
    "    mid_points_rad = (hist_rad[1][:-1] + hist_rad[1][1:]) / 2.0\n",
    "    mid_points_mass = (hist_mass[1][:-1] + hist_mass[1][1:]) / 2.0\n",
    "    rbm_radii.append(mid_points_rad[np.argmax(hist_rad[0])])\n",
    "    rbm_masses.append(mid_points_mass[np.argmax(hist_mass[0])])\n",
    "imputed_radii['rbm_TLG2020'] = np.array(rbm_radii)\n",
    "imputed_masses['rbm_TLG2020'] = np.array(rbm_masses)\n",
    "\n",
    "eps_mass = compute_epsilon(imputed_masses['rbm_TLG2020'], true_masses)\n",
    "eps_rad = compute_epsilon(imputed_radii['rbm_TLG2020'], true_radii)\n",
    "print(f'TLG2020 radius epsilon = {eps_rad:.4f}')\n",
    "print(f'TLG2020 mass epsilon = {eps_mass:.4f}')"
   ]
  },
  {
   "cell_type": "code",
   "execution_count": 70,
   "id": "a931e662",
   "metadata": {},
   "outputs": [
    {
     "name": "stderr",
     "output_type": "stream",
     "text": [
      "2023-07-14 11:57:11.688406: I tensorflow/core/platform/cpu_feature_guard.cc:193] This TensorFlow binary is optimized with oneAPI Deep Neural Network Library (oneDNN) to use the following CPU instructions in performance-critical operations:  AVX2 FMA\n",
      "To enable them in other operations, rebuild TensorFlow with the appropriate compiler flags.\n",
      "2023-07-14 11:57:11.701920: I tensorflow/compiler/mlir/mlir_graph_optimization_pass.cc:354] MLIR V1 optimization pass is not enabled\n"
     ]
    }
   ],
   "source": [
    "knnxkde = KNNxKDE(h=0.05, tau=MY_TAU, nb_neigh=MY_NB_NEIGH, metric='nan_std_eucl')\n",
    "norm_imputed_data = knnxkde.impute_mean(norm_miss_data, nb_draws=1000)\n",
    "renorm_imputed_data = renormalization(norm_imputed_data, norm_params)\n",
    "imputed_radii['knnxkde'] = np.exp(renorm_imputed_data[dataidx[400:], 0])\n",
    "imputed_masses['knnxkde'] = np.exp(renorm_imputed_data[dataidx[400:], 1])\n",
    "\n",
    "knnimputer = KNNImputer(n_neighbors=MY_NB_NEIGHBOURS)\n",
    "norm_imputed_data = knnimputer.fit_transform(norm_miss_data)\n",
    "renorm_imputed_data = renormalization(norm_imputed_data, norm_params)\n",
    "imputed_radii['knnimputer'] = np.exp(renorm_imputed_data[dataidx[400:], 0])\n",
    "imputed_masses['knnimputer'] = np.exp(renorm_imputed_data[dataidx[400:], 1])\n",
    "\n",
    "estimator = ExtraTreesRegressor(n_estimators=MY_NB_TREES)\n",
    "missforest = IterativeImputer(estimator=estimator, max_iter=10, tol=2e-1, verbose=0)\n",
    "norm_imputed_data = missforest.fit_transform(norm_miss_data)\n",
    "renorm_imputed_data = renormalization(norm_imputed_data, norm_params)\n",
    "imputed_radii['missforest'] = np.exp(renorm_imputed_data[dataidx[400:], 0])\n",
    "imputed_masses['missforest'] = np.exp(renorm_imputed_data[dataidx[400:], 1])\n",
    "\n",
    "gain_parameters = {'batch_size': 128, 'hint_rate': 0.9, 'alpha': 100, 'iterations': MY_NB_ITERS}\n",
    "norm_imputed_data = gain(norm_miss_data, gain_parameters)\n",
    "renorm_imputed_data = renormalization(norm_imputed_data, norm_params)\n",
    "imputed_radii['gain'] = np.exp(renorm_imputed_data[dataidx[400:], 0])\n",
    "imputed_masses['gain'] = np.exp(renorm_imputed_data[dataidx[400:], 1])\n",
    "\n",
    "mice = IterativeImputer(estimator=BayesianRidge(), max_iter=10, tol=2e-1, verbose=0)\n",
    "norm_imputed_data = mice.fit_transform(norm_miss_data)\n",
    "renorm_imputed_data = renormalization(norm_imputed_data, norm_params)\n",
    "imputed_radii['mice'] = np.exp(renorm_imputed_data[dataidx[400:], 0])\n",
    "imputed_masses['mice'] = np.exp(renorm_imputed_data[dataidx[400:], 1])\n",
    "\n",
    "mean_imputer = SimpleImputer(strategy='mean')\n",
    "norm_imputed_data = mean_imputer.fit_transform(norm_miss_data)\n",
    "renorm_imputed_data = renormalization(norm_imputed_data, norm_params)\n",
    "imputed_radii['mean'] = np.exp(renorm_imputed_data[dataidx[400:], 0])\n",
    "imputed_masses['mean'] = np.exp(renorm_imputed_data[dataidx[400:], 1])"
   ]
  },
  {
   "cell_type": "code",
   "execution_count": 71,
   "id": "125fce6f",
   "metadata": {},
   "outputs": [],
   "source": [
    "with open('results_and_figures/comparison_tlg2020/rv_case_imputed_radii.pkl', 'wb') as f:\n",
    "    pickle.dump(imputed_radii, f)\n",
    "with open('results_and_figures/comparison_tlg2020/rv_case_imputed_masses.pkl', 'wb') as f:\n",
    "    pickle.dump(imputed_masses, f)"
   ]
  },
  {
   "cell_type": "code",
   "execution_count": null,
   "id": "a20c7466",
   "metadata": {},
   "outputs": [],
   "source": []
  },
  {
   "cell_type": "code",
   "execution_count": null,
   "id": "e94735c1",
   "metadata": {},
   "outputs": [],
   "source": []
  }
 ],
 "metadata": {
  "kernelspec": {
   "display_name": "Python 3 (ipykernel)",
   "language": "python",
   "name": "python3"
  },
  "language_info": {
   "codemirror_mode": {
    "name": "ipython",
    "version": 3
   },
   "file_extension": ".py",
   "mimetype": "text/x-python",
   "name": "python",
   "nbconvert_exporter": "python",
   "pygments_lexer": "ipython3",
   "version": "3.12.4"
  }
 },
 "nbformat": 4,
 "nbformat_minor": 5
}

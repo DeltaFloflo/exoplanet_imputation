{
 "cells": [
  {
   "cell_type": "markdown",
   "id": "e19ccc64",
   "metadata": {},
   "source": [
    "# 2.2. Individual planet distribution with the whole archive\n",
    "\n",
    "Generate and plot the univariate mass (for Transit case) and bivariate radius-mass (for the RV case) distributions.  \n",
    "Save results.  \n",
    "\n",
    "Also do the same with the 8x8 dataset here."
   ]
  },
  {
   "cell_type": "code",
   "execution_count": 1,
   "id": "5c8ac89e",
   "metadata": {},
   "outputs": [],
   "source": [
    "import os\n",
    "import time\n",
    "import pickle\n",
    "import warnings\n",
    "\n",
    "import numpy as np\n",
    "import pandas as pd\n",
    "import seaborn as sns\n",
    "import matplotlib.pyplot as plt\n",
    "\n",
    "from knnxkde import KNNxKDE\n",
    "from utils import normalization, renormalization\n",
    "from utils import convolution_TLG2020_fix_incl"
   ]
  },
  {
   "cell_type": "markdown",
   "id": "925d5547",
   "metadata": {},
   "source": [
    "## 0. Prepare matrix\n",
    "\n",
    "- Load data\n",
    "- Remove mass if not observed mass\n",
    "- Select subset of feature for imputation\n",
    "- Transform log\n",
    "- Print feature statistics and plot pairplot"
   ]
  },
  {
   "cell_type": "code",
   "execution_count": 2,
   "id": "3708d08a",
   "metadata": {},
   "outputs": [],
   "source": [
    "original_df = pd.read_csv('data/exoplanets2023.csv')"
   ]
  },
  {
   "cell_type": "code",
   "execution_count": 3,
   "id": "793125f5",
   "metadata": {},
   "outputs": [],
   "source": [
    "my_df = original_df.copy()\n",
    "for n in range(len(my_df)):\n",
    "    if my_df.loc[n, 'pl_bmassprov'] == 'Msini':\n",
    "        my_df.loc[n, 'pl_bmassj'] = np.nan"
   ]
  },
  {
   "cell_type": "code",
   "execution_count": 4,
   "id": "840ed0e3",
   "metadata": {},
   "outputs": [],
   "source": [
    "ALL_FEATURES = [\n",
    "    'pl_radj',\n",
    "    'pl_bmassj',\n",
    "    'pl_orbper',\n",
    "    'pl_orbeccen',\n",
    "    'pl_orbincl',\n",
    "    'pl_eqt',\n",
    "    'st_mass',\n",
    "    'st_met',\n",
    "    'st_age',\n",
    "    'sy_snum',\n",
    "    'sy_pnum'\n",
    "]\n",
    "\n",
    "TLG2020_FEATURES = [\n",
    "    'pl_radj',\n",
    "    'pl_bmassj',\n",
    "    'pl_orbper',\n",
    "    'pl_eqt',\n",
    "    'st_mass',\n",
    "    'sy_pnum',\n",
    "]"
   ]
  },
  {
   "cell_type": "code",
   "execution_count": 5,
   "id": "82bb6e55",
   "metadata": {},
   "outputs": [],
   "source": [
    "X = np.array(my_df[TLG2020_FEATURES])\n",
    "X[:, [0, 1, 2, 3, 4]] = np.log(X[:, [0, 1, 2, 3, 4]])"
   ]
  },
  {
   "cell_type": "code",
   "execution_count": 6,
   "id": "0e56461f",
   "metadata": {},
   "outputs": [],
   "source": [
    "RJ = 11.21  # in Earth radii\n",
    "MJ = 317.8  # in Earth masses"
   ]
  },
  {
   "cell_type": "code",
   "execution_count": 7,
   "id": "a440515b",
   "metadata": {},
   "outputs": [],
   "source": [
    "def generate_planet_bio(n):\n",
    "    cur_data = my_df.iloc[n]\n",
    "    pl_rade = cur_data['pl_radj'] * RJ  # radius in Earth radii\n",
    "    pl_masse = cur_data['pl_bmassj'] * MJ  # mass in Earth masses\n",
    "    pl_orbper = cur_data['pl_orbper']  # in days\n",
    "    pl_teq = cur_data['pl_eqt']  # in K\n",
    "    st_mass = cur_data['st_mass']  # in Solar masses\n",
    "    pl_pnum = cur_data['sy_pnum']\n",
    "    my_text = fr'Rad. = {pl_rade:.3f} $r_\\oplus$' + '\\n'\n",
    "    my_text += fr'Mass = {pl_masse:.3f} $m_\\oplus$' + '\\n'\n",
    "    my_text += fr'OrbPer = {pl_orbper:.2f} days' + '\\n'\n",
    "    my_text += fr'T.Eq. = {pl_teq:.0f} K' + '\\n'\n",
    "    my_text += fr'StMass = {st_mass:.3f} $m_\\odot$' + '\\n'\n",
    "    my_text += fr'Nb. Pl. = {pl_pnum}'\n",
    "    return my_text"
   ]
  },
  {
   "cell_type": "markdown",
   "id": "74c14e94",
   "metadata": {},
   "source": [
    "## A. Transit Case"
   ]
  },
  {
   "cell_type": "code",
   "execution_count": 9,
   "id": "a085697f",
   "metadata": {},
   "outputs": [],
   "source": [
    "DICT_OBSERVED_MASS_NAME_ID = dict()  # store the name and row number of planets with observed mass\n",
    "for cur_idx in range(my_df.shape[0]):\n",
    "    if ~np.isnan(my_df['pl_bmassj'].iloc[cur_idx]):\n",
    "        my_key = my_df['pl_name'].iloc[cur_idx]\n",
    "        DICT_OBSERVED_MASS_NAME_ID[my_key] = cur_idx\n",
    "NB_OBSERVED_MASSES = len(DICT_OBSERVED_MASS_NAME_ID)"
   ]
  },
  {
   "cell_type": "code",
   "execution_count": 15,
   "id": "df1e3c83",
   "metadata": {},
   "outputs": [],
   "source": [
    "MY_TAU = 1.0 / 50.0  # for kNNxKDE\n",
    "MY_NB_NEIGH = 20  # for kNNxKDE\n",
    "NB_DRAWS = 10000\n",
    "my_mass_bins = np.geomspace(1e-1, 1e5, num=101)\n",
    "my_weights = np.ones(NB_DRAWS) / NB_DRAWS\n",
    "N, D = X.shape"
   ]
  },
  {
   "cell_type": "code",
   "execution_count": 17,
   "id": "6c93c951",
   "metadata": {},
   "outputs": [
    {
     "name": "stdout",
     "output_type": "stream",
     "text": [
      "600/1426 -> 14:20:05                                  \n",
      "700/1426 -> 14:40:40                           \n",
      "800/1426 -> 15:01:06                          \n",
      "900/1426 -> 15:21:37                          \n",
      "1000/1426 -> 15:42:12                                    \n",
      "1100/1426 -> 16:02:51                                      \n",
      "1200/1426 -> 16:23:38                          \n",
      "1300/1426 -> 16:44:25                                       \n",
      "1400/1426 -> 17:05:11                                           \n",
      "1426/1426... neptune                              \r"
     ]
    }
   ],
   "source": [
    "for i, (cur_name, cur_idx)  in enumerate(DICT_OBSERVED_MASS_NAME_ID.items()):\n",
    "    print(f'{i+1}/{NB_OBSERVED_MASSES}... {cur_name}                      ', end='\\r')\n",
    "    if ((i+1)%100)==0:\n",
    "        print(f'                                           ', end='\\r')\n",
    "        print(f'{i+1}/{NB_OBSERVED_MASSES} -> {time.strftime(\"%H:%M:%S\", time.localtime())}')\n",
    "    miss_data = np.copy(X)\n",
    "    miss_data[cur_idx, 1] = np.nan  # Transit case: hide the mass\n",
    "    norm_miss_data, norm_params = normalization(miss_data)\n",
    "    m1 = norm_params['min_val'][1]\n",
    "    m2 = norm_params['max_val'][1]\n",
    "    \n",
    "    knnxkde = KNNxKDE(h=0.05, tau=MY_TAU, nb_neigh=MY_NB_NEIGH, metric='nan_std_eucl')\n",
    "    knnxkde_samples = knnxkde.impute_samples(norm_miss_data, nb_draws=NB_DRAWS)\n",
    "    knnxkde_renorm_sample = np.exp(knnxkde_samples[(cur_idx, 1)] * (m2 + 1e-6) + m1) * MJ\n",
    "    \n",
    "    fig, ax = plt.subplots(1, 1, figsize=(8, 3))\n",
    "    true_mass = my_df.iloc[cur_idx]['pl_bmassj'] * MJ\n",
    "    imputed_mass = np.exp(np.mean(knnxkde_samples[(cur_idx, 1)]) * (m2 + 1e-6) + m1) * MJ\n",
    "    eps = np.log(true_mass) - np.log(imputed_mass)\n",
    "\n",
    "    ax.hist(knnxkde_renorm_sample, bins=my_mass_bins, weights=my_weights, color='C3', alpha=0.4)\n",
    "    ax.axvline(true_mass, ls=(0, (3, 3)), c='black', lw=2)\n",
    "    ax.axvline(imputed_mass, ls=(0, (3, 3)), c='C3', lw=2, label=f'$\\\\varepsilon=${eps:.4f}')\n",
    "    ax.set_xscale('log')\n",
    "    ax.set_xlabel('Mass [m$_\\oplus$]')\n",
    "    ax.set_ylabel('Proportion')\n",
    "    ax.legend()\n",
    "\n",
    "    props = dict(boxstyle='round', facecolor='white', alpha=0.1)\n",
    "    ax.text(1.02, 0.98, generate_planet_bio(cur_idx), transform=ax.transAxes, fontsize=10, verticalalignment='top', bbox=props)\n",
    "\n",
    "    ax.set_title(my_df.iloc[cur_idx]['pl_name'])\n",
    "    fig.tight_layout()\n",
    "    plt.savefig(f'results_and_figures/2_comp_whole_archive/distrib_transit/distrib_{str(i).zfill(4)}[{str(cur_idx).zfill(4)}].pdf')\n",
    "    plt.close()"
   ]
  },
  {
   "cell_type": "markdown",
   "id": "6cde44b5",
   "metadata": {},
   "source": [
    "## B. RV Case\n",
    "\n",
    "For the RV case, I already have the distributions.  \n",
    "I need to perform the convolution, and plot the results."
   ]
  },
  {
   "cell_type": "code",
   "execution_count": 8,
   "id": "5f59e167",
   "metadata": {},
   "outputs": [],
   "source": [
    "DICT_OBSERVED_MASS_AND_RADIUS_NAME_ID = dict()  # name and row id for planets with observed mass AND radius\n",
    "for cur_idx in range(my_df.shape[0]):\n",
    "    if ~np.isnan(my_df['pl_bmassj'].iloc[cur_idx]) and ~np.isnan(my_df['pl_radj'].iloc[cur_idx]):\n",
    "        my_key = my_df['pl_name'].iloc[cur_idx]\n",
    "        DICT_OBSERVED_MASS_AND_RADIUS_NAME_ID[my_key] = cur_idx\n",
    "NB_OBSERVED_MASS_AND_RADIUS = len(DICT_OBSERVED_MASS_AND_RADIUS_NAME_ID)"
   ]
  },
  {
   "cell_type": "code",
   "execution_count": 9,
   "id": "c1cce644",
   "metadata": {},
   "outputs": [],
   "source": [
    "MY_TAU = 1.0 / 50.0  # for kNNxKDE\n",
    "MY_NB_NEIGH = 20  # for kNNxKDE\n",
    "NB_DRAWS = 10000\n",
    "my_rad_bins = np.geomspace(1e-1, 1e2, num=101)\n",
    "my_mass_bins = np.geomspace(1e-1, 1e5, num=101)\n",
    "my_weights = np.ones(NB_DRAWS) / NB_DRAWS\n",
    "N, D = X.shape"
   ]
  },
  {
   "cell_type": "code",
   "execution_count": 18,
   "id": "d2d53fe1",
   "metadata": {},
   "outputs": [],
   "source": [
    "save_dir = f'results_and_figures/2_comp_whole_archive'  # Reload samples\n",
    "with open(f'{save_dir}/rv_case_masses_radii.pkl', 'rb') as f:\n",
    "    imputed_samples = pickle.load(f)  # Note: samples are in log"
   ]
  },
  {
   "cell_type": "code",
   "execution_count": 19,
   "id": "b89b790e",
   "metadata": {},
   "outputs": [],
   "source": [
    "rad_distrib = np.zeros((NB_OBSERVED_MASS_AND_RADIUS, NB_DRAWS))\n",
    "mass_distrib = np.zeros((NB_OBSERVED_MASS_AND_RADIUS, NB_DRAWS))\n",
    "true_radii = np.zeros(NB_OBSERVED_MASS_AND_RADIUS)\n",
    "true_masses = np.zeros(NB_OBSERVED_MASS_AND_RADIUS)\n",
    "\n",
    "for i, (cur_name, cur_idx)  in enumerate(DICT_OBSERVED_MASS_AND_RADIUS_NAME_ID.items()):\n",
    "    rad_distrib[i] = np.exp(imputed_samples[(cur_name, 'radius')])\n",
    "    mass_distrib[i] = np.exp(imputed_samples[(cur_name, 'mass')])\n",
    "    true_radii[i] = my_df.iloc[cur_idx]['pl_radj']\n",
    "    true_masses[i] = my_df.iloc[cur_idx]['pl_bmassj']"
   ]
  },
  {
   "cell_type": "code",
   "execution_count": 14,
   "id": "0a66b0e5",
   "metadata": {},
   "outputs": [
    {
     "name": "stdout",
     "output_type": "stream",
     "text": [
      "1000/1000\r"
     ]
    }
   ],
   "source": [
    "nb_repeat = 1000  # Repeat convolution many time\n",
    "rad_estimates = np.zeros((NB_OBSERVED_MASS_AND_RADIUS, nb_repeat))\n",
    "mass_estimates = np.zeros((NB_OBSERVED_MASS_AND_RADIUS, nb_repeat))\n",
    "\n",
    "for n in range(nb_repeat):\n",
    "    print(f'{n+1}/{nb_repeat}', end='\\r', flush=True)\n",
    "    cur_i = np.arccos(np.random.uniform()) * 90.0 / (np.pi / 2.0)  # random inclination in degrees\n",
    "    rad_estimates[:, n], mass_estimates[:, n] = convolution_TLG2020_fix_incl(\n",
    "        rad_distrib=rad_distrib,\n",
    "        mass_distrib=mass_distrib,\n",
    "        true_masses=true_masses,\n",
    "        incl=cur_i,\n",
    "    )"
   ]
  },
  {
   "cell_type": "code",
   "execution_count": 15,
   "id": "ab02ce06",
   "metadata": {},
   "outputs": [
    {
     "name": "stdout",
     "output_type": "stream",
     "text": [
      "100/1081 -> 09:48:54                                     \n",
      "200/1081 -> 09:50:35                         \n",
      "300/1081 -> 09:52:15                           \n",
      "400/1081 -> 09:53:58                          \n",
      "500/1081 -> 09:55:37                           \n",
      "600/1081 -> 09:57:18                          \n",
      "700/1081 -> 09:59:02                          \n",
      "800/1081 -> 10:00:47                             \n",
      "900/1081 -> 10:02:20                              \n",
      "1000/1081 -> 10:04:07                         \n",
      "1081/1081... neptune                                            \r"
     ]
    }
   ],
   "source": [
    "for i, (cur_name, cur_idx)  in enumerate(DICT_OBSERVED_MASS_AND_RADIUS_NAME_ID.items()):\n",
    "    print(f'{i+1}/{NB_OBSERVED_MASS_AND_RADIUS}... {cur_name}                      ', end='\\r')\n",
    "    if ((i+1)%100)==0:\n",
    "        print(f'                                           ', end='\\r')\n",
    "        print(f'{i+1}/{NB_OBSERVED_MASS_AND_RADIUS} -> {time.strftime(\"%H:%M:%S\", time.localtime())}')\n",
    "\n",
    "    fig, ax = plt.subplots(2, 1, figsize=(8, 5))\n",
    "\n",
    "    ax[0].hist(rad_distrib[i]*RJ, bins=my_rad_bins, weights=my_weights, color='C3', alpha=0.4)\n",
    "    rad_estim = np.mean(rad_estimates[i])\n",
    "    rad_eps = np.log(true_radii[i]) - np.log(rad_estim)\n",
    "    ax[0].axvline(rad_estim*RJ, ls=(0, (3, 3)), c='C3', lw=2, label=f'$\\\\varepsilon=${rad_eps:.4f}')\n",
    "    ax[0].axvline(true_radii[i]*RJ, ls=(0, (3, 3)), c='black', lw=2)\n",
    "    ax[0].set_xscale('log')\n",
    "    ax[0].set_xlabel('Radius [r$_\\oplus$]')\n",
    "    ax[0].set_ylabel('Proportion')\n",
    "    ax[0].legend()\n",
    "\n",
    "    ax[1].hist(mass_distrib[i]*MJ, bins=my_mass_bins, weights=my_weights, color='C3', alpha=0.4)\n",
    "    mass_estim = np.mean(mass_estimates[i])\n",
    "    mass_eps = np.log(true_masses[i]) - np.log(mass_estim)\n",
    "    ax[1].axvline(mass_estim*MJ, ls=(0, (3, 3)), c='C3', lw=2, label=f'$\\\\varepsilon=${mass_eps:.4f}')\n",
    "    ax[1].axvline(true_masses[i]*MJ, ls=(0, (3, 3)), c='black', lw=2)\n",
    "    ax[1].set_xscale('log')\n",
    "    ax[1].set_xlabel('Mass [m$_\\oplus$]')\n",
    "    ax[1].set_ylabel('Proportion')\n",
    "    ax[1].legend()\n",
    "\n",
    "    props = dict(boxstyle='round', facecolor='white', alpha=0.1)\n",
    "    ax[0].text(1.02, 0.98, generate_planet_bio(cur_idx), transform=ax[0].transAxes, fontsize=10, verticalalignment='top', bbox=props)\n",
    "    ax[0].set_title(my_df.iloc[cur_idx]['pl_name'])\n",
    "    fig.tight_layout()\n",
    "    plt.savefig(f'results_and_figures/2_comp_whole_archive/distrib_rv/distrib_{str(i).zfill(4)}[{str(cur_idx).zfill(4)}].pdf')\n",
    "    plt.close()"
   ]
  },
  {
   "cell_type": "code",
   "execution_count": null,
   "id": "11f61494",
   "metadata": {},
   "outputs": [],
   "source": []
  },
  {
   "cell_type": "code",
   "execution_count": 10,
   "id": "b5abb2b1",
   "metadata": {},
   "outputs": [
    {
     "name": "stdout",
     "output_type": "stream",
     "text": [
      "100/1081 -> 16:45:38                                     \n",
      "200/1081 -> 17:03:39                         \n",
      "300/1081 -> 17:21:39                           \n",
      "400/1081 -> 17:39:41                          \n",
      "500/1081 -> 17:57:44                           \n",
      "600/1081 -> 18:15:45                          \n",
      "700/1081 -> 18:33:46                          \n",
      "800/1081 -> 18:51:47                             \n",
      "900/1081 -> 19:10:01                              \n",
      "1000/1081 -> 19:28:03                         \n",
      "1081/1081... neptune                                            \r"
     ]
    }
   ],
   "source": [
    "for i, (cur_name, cur_idx)  in enumerate(DICT_OBSERVED_MASS_AND_RADIUS_NAME_ID.items()):\n",
    "    print(f'{i+1}/{NB_OBSERVED_MASS_AND_RADIUS}... {cur_name}                      ', end='\\r')\n",
    "    if ((i+1)%100)==0:\n",
    "        print(f'                                           ', end='\\r')\n",
    "        print(f'{i+1}/{NB_OBSERVED_MASS_AND_RADIUS} -> {time.strftime(\"%H:%M:%S\", time.localtime())}')\n",
    "    miss_data = np.copy(X)\n",
    "    miss_data[cur_idx, 0] = np.nan  # RV case: hide the radius...\n",
    "    miss_data[cur_idx, 1] = np.nan  # ... and the mass\n",
    "    norm_miss_data, norm_params = normalization(miss_data)\n",
    "    r1 = norm_params['min_val'][0]\n",
    "    r2 = norm_params['max_val'][0]\n",
    "    m1 = norm_params['min_val'][1]\n",
    "    m2 = norm_params['max_val'][1]\n",
    "\n",
    "    knnxkde = KNNxKDE(h=0.05, tau=MY_TAU, nb_neigh=MY_NB_NEIGH, metric='nan_std_eucl')\n",
    "    norm_samples = knnxkde.impute_samples(norm_miss_data, nb_draws=NB_DRAWS)\n",
    "    knnxkde_renorm_rad_sample = np.exp(norm_samples[(cur_idx, 0)] * (r2 + 1e-6) + r1) * RJ\n",
    "    knnxkde_renorm_mass_sample = np.exp(norm_samples[(cur_idx, 1)] * (m2 + 1e-6) + m1) * MJ\n",
    "\n",
    "    fig, ax = plt.subplots(2, 1, figsize=(8, 5))\n",
    "    true_rad = my_df.iloc[cur_idx]['pl_radj'] * RJ\n",
    "    true_mass = my_df.iloc[cur_idx]['pl_bmassj'] * MJ\n",
    "    imputed_rad = np.exp(np.mean(knnxkde_samples[(cur_idx, 0)]) * (r2 + 1e-6) + r1) * RJ\n",
    "    imputed_mass = np.exp(np.mean(knnxkde_samples[(cur_idx, 1)]) * (m2 + 1e-6) + m1) * MJ\n",
    "    eps_rad = np.log(true_rad) - np.log(imputed_rad)\n",
    "    eps_mass = np.log(true_mass) - np.log(imputed_mass)\n",
    "\n",
    "    ax[0].hist(knnxkde_renorm_rad_sample, bins=my_rad_bins, weights=my_weights, color='C3', alpha=0.4)\n",
    "    ax[0].axvline(true_rad, ls=(0, (3, 3)), c='black', lw=2)\n",
    "    ax[0].axvline(imputed_rad, ls=(0, (3, 3)), c='C3', lw=2, label=f'$\\\\varepsilon=${eps_rad:.4f}')\n",
    "    ax[0].set_xscale('log')\n",
    "    ax[0].set_xlabel('Radius [r$_\\oplus$]')\n",
    "    ax[0].set_ylabel('Proportion')\n",
    "    ax[0].legend()\n",
    "    \n",
    "    ax[1].hist(knnxkde_renorm_mass_sample, bins=my_mass_bins, weights=my_weights, color='C3', alpha=0.4)\n",
    "    ax[1].axvline(true_mass, ls=(0, (3, 3)), c='black', lw=2)\n",
    "    ax[1].axvline(imputed_mass, ls=(0, (3, 3)), c='C3', lw=2, label=f'$\\\\varepsilon=${eps_mass:.4f}')\n",
    "    ax[1].set_xscale('log')\n",
    "    ax[1].set_xlabel('Mass [m$_\\oplus$]')\n",
    "    ax[1].set_ylabel('Proportion')\n",
    "    ax[1].legend()\n",
    "    \n",
    "    props = dict(boxstyle='round', facecolor='white', alpha=0.1)\n",
    "    ax.text(1.02, 0.98, generate_planet_bio(cur_idx), transform=ax.transAxes, fontsize=10, verticalalignment='top', bbox=props)\n",
    "\n",
    "    ax[0].set_title(my_df.iloc[cur_idx]['pl_name'])\n",
    "    fig.tight_layout()\n",
    "    plt.savefig(f'results_and_figures/2_comp_whole_archive/distrib_rv/distrib_{str(i).zfill(4)}[{str(cur_idx).zfill(4)}].pdf')\n",
    "    plt.close()"
   ]
  },
  {
   "cell_type": "code",
   "execution_count": null,
   "id": "717a8421",
   "metadata": {},
   "outputs": [],
   "source": []
  },
  {
   "cell_type": "markdown",
   "id": "9ca8a4c0",
   "metadata": {},
   "source": [
    "# NEW -- When 8 parameters are used"
   ]
  },
  {
   "cell_type": "markdown",
   "id": "fa1758e4",
   "metadata": {},
   "source": [
    "## A. Transit"
   ]
  },
  {
   "cell_type": "code",
   "execution_count": 19,
   "id": "2d33b2b3",
   "metadata": {},
   "outputs": [],
   "source": [
    "def generate_planet_bio(n):\n",
    "    cur_data = my_df.iloc[n]\n",
    "    pl_rade = cur_data['pl_radj'] * RJ  # radius in Earth radii\n",
    "    pl_masse = cur_data['pl_bmassj'] * MJ  # mass in Earth masses\n",
    "    pl_orbper = cur_data['pl_orbper']  # in days\n",
    "    pl_orbeccen = cur_data['pl_orbeccen']  # e \\in [0, 1]\n",
    "    pl_teq = cur_data['pl_eqt']  # in K\n",
    "    st_mass = cur_data['st_mass']  # in Solar masses\n",
    "    st_met = cur_data['st_met']  # in dex\n",
    "    pl_pnum = cur_data['sy_pnum']\n",
    "    my_text = fr'Rad. = {pl_rade:.3f} $r_\\oplus$' + '\\n'\n",
    "    my_text += fr'Mass = {pl_masse:.3f} $m_\\oplus$' + '\\n'\n",
    "    my_text += fr'OrbPer = {pl_orbper:.2f} days' + '\\n'\n",
    "    my_text += fr'OrbEcc. = {pl_orbeccen:.3f}' + '\\n'\n",
    "    my_text += fr'T.Eq. = {pl_teq:.0f} K' + '\\n'\n",
    "    my_text += fr'StMass = {st_mass:.3f} $m_\\odot$' + '\\n'\n",
    "    my_text += fr'StMet. = {st_met:.3f} dex' + '\\n'\n",
    "    my_text += fr'Nb. Pl. = {pl_pnum}'\n",
    "    return my_text"
   ]
  },
  {
   "cell_type": "code",
   "execution_count": 20,
   "id": "ffe99698",
   "metadata": {},
   "outputs": [],
   "source": [
    "original_df = pd.read_csv('data/exoplanets2023.csv')\n",
    "\n",
    "my_df = original_df.copy()\n",
    "for n in range(len(my_df)):\n",
    "    if my_df.loc[n, 'pl_bmassprov'] == 'Msini':\n",
    "        my_df.loc[n, 'pl_bmassj'] = np.nan\n",
    "    if my_df.loc[n, 'pl_orbeccen']<0.0:\n",
    "        my_df.loc[n, 'pl_orbeccen'] = np.nan  # Remove the 3 suspicious values "
   ]
  },
  {
   "cell_type": "code",
   "execution_count": 21,
   "id": "5d918b08",
   "metadata": {},
   "outputs": [],
   "source": [
    "ALL_FEATURES = [\n",
    "    'pl_radj',\n",
    "    'pl_bmassj',\n",
    "    'pl_orbper',\n",
    "    'pl_orbeccen',\n",
    "    'pl_orbincl',\n",
    "    'pl_eqt',\n",
    "    'st_mass',\n",
    "    'st_met',\n",
    "    'st_age',\n",
    "    'sy_snum',\n",
    "    'sy_pnum'\n",
    "]\n",
    "\n",
    "NEW_FEATURES = [\n",
    "    'pl_radj',\n",
    "    'pl_bmassj',\n",
    "    'pl_orbper',\n",
    "    'pl_orbeccen',\n",
    "    'pl_eqt',\n",
    "    'st_mass',\n",
    "    'st_met',\n",
    "    'sy_pnum',\n",
    "]"
   ]
  },
  {
   "cell_type": "code",
   "execution_count": 22,
   "id": "7add129e",
   "metadata": {},
   "outputs": [],
   "source": [
    "X = np.array(my_df[NEW_FEATURES])\n",
    "X[:, [0, 1, 2, 4, 5]] = np.log(X[:, [0, 1, 2, 4, 5]])"
   ]
  },
  {
   "cell_type": "code",
   "execution_count": 25,
   "id": "5a79923a",
   "metadata": {},
   "outputs": [],
   "source": [
    "MY_TAU = 1.0 / 50.0  # for kNNxKDE\n",
    "MY_NB_NEIGH = 20  # for kNNxKDE\n",
    "NB_DRAWS = 10000\n",
    "my_mass_bins = np.geomspace(1e-1, 1e5, num=101)\n",
    "my_weights = np.ones(NB_DRAWS) / NB_DRAWS\n",
    "N, D = X.shape"
   ]
  },
  {
   "cell_type": "code",
   "execution_count": 28,
   "id": "196e151e",
   "metadata": {},
   "outputs": [
    {
     "name": "stdout",
     "output_type": "stream",
     "text": [
      "1310/1426 -> 10:51:49                          \n",
      "1320/1426 -> 10:55:09                        \n",
      "1330/1426 -> 10:58:18                       \n",
      "1340/1426 -> 11:01:22                       \n",
      "1350/1426 -> 11:04:16                       \n",
      "1360/1426 -> 11:07:07                       \n",
      "1370/1426 -> 11:10:09                         \n",
      "1380/1426 -> 11:13:12                         \n",
      "1390/1426 -> 11:16:24                         \n",
      "1400/1426 -> 11:19:22                                           \n",
      "1410/1426 -> 11:22:11                             \n",
      "1420/1426 -> 11:25:03                         \n",
      "1426/1426... neptune                      \r"
     ]
    }
   ],
   "source": [
    "for i, (cur_name, cur_idx)  in enumerate(DICT_OBSERVED_MASS_NAME_ID.items()):\n",
    "    if i<1300:\n",
    "        continue\n",
    "    print(f'{i+1}/{NB_OBSERVED_MASSES}... {cur_name}                      ', end='\\r')\n",
    "    if ((i+1)%10)==0:\n",
    "        print(f'                                           ', end='\\r')\n",
    "        print(f'{i+1}/{NB_OBSERVED_MASSES} -> {time.strftime(\"%H:%M:%S\", time.localtime())}')\n",
    "    miss_data = np.copy(X)\n",
    "    miss_data[cur_idx, 1] = np.nan  # Transit case: hide the mass\n",
    "    norm_miss_data, norm_params = normalization(miss_data)\n",
    "    m1 = norm_params['min_val'][1]\n",
    "    m2 = norm_params['max_val'][1]\n",
    "    \n",
    "    knnxkde = KNNxKDE(h=0.05, tau=MY_TAU, nb_neigh=MY_NB_NEIGH, metric='nan_std_eucl')\n",
    "    knnxkde_samples = knnxkde.impute_samples(norm_miss_data, nb_draws=NB_DRAWS)\n",
    "    knnxkde_renorm_sample = np.exp(knnxkde_samples[(cur_idx, 1)] * (m2 + 1e-6) + m1) * MJ\n",
    "    \n",
    "    fig, ax = plt.subplots(1, 1, figsize=(8, 3))\n",
    "    true_mass = my_df.iloc[cur_idx]['pl_bmassj'] * MJ\n",
    "    imputed_mass = np.exp(np.mean(knnxkde_samples[(cur_idx, 1)]) * (m2 + 1e-6) + m1) * MJ\n",
    "    eps = np.log(true_mass) - np.log(imputed_mass)\n",
    "\n",
    "    ax.hist(knnxkde_renorm_sample, bins=my_mass_bins, weights=my_weights, color='C3', alpha=0.4)\n",
    "    ax.axvline(true_mass, ls=(0, (3, 3)), c='black', lw=2)\n",
    "    ax.axvline(imputed_mass, ls=(0, (3, 3)), c='C3', lw=2, label=f'$\\\\varepsilon=${eps:.4f}')\n",
    "    ax.set_xscale('log')\n",
    "    ax.set_xlabel('Mass [m$_\\oplus$]')\n",
    "    ax.set_ylabel('Proportion')\n",
    "    ax.legend()\n",
    "\n",
    "    props = dict(boxstyle='round', facecolor='white', alpha=0.1)\n",
    "    ax.text(1.02, 0.98, generate_planet_bio(cur_idx), transform=ax.transAxes, fontsize=10, verticalalignment='top', bbox=props)\n",
    "\n",
    "    ax.set_title(my_df.iloc[cur_idx]['pl_name'])\n",
    "    fig.tight_layout()\n",
    "    plt.savefig(f'results_and_figures/2_comp_whole_archive/distrib_transit_all8params/distrib_{str(i).zfill(4)}[{str(cur_idx).zfill(4)}].pdf')\n",
    "    plt.close()"
   ]
  },
  {
   "cell_type": "markdown",
   "id": "5acd59b3",
   "metadata": {},
   "source": [
    "## B. RV case"
   ]
  },
  {
   "cell_type": "code",
   "execution_count": 8,
   "id": "1f22c68f",
   "metadata": {},
   "outputs": [],
   "source": [
    "DICT_OBSERVED_MASS_AND_RADIUS_NAME_ID = dict()  # name and row id for planets with observed mass AND radius\n",
    "for cur_idx in range(my_df.shape[0]):\n",
    "    if ~np.isnan(my_df['pl_bmassj'].iloc[cur_idx]) and ~np.isnan(my_df['pl_radj'].iloc[cur_idx]):\n",
    "        my_key = my_df['pl_name'].iloc[cur_idx]\n",
    "        DICT_OBSERVED_MASS_AND_RADIUS_NAME_ID[my_key] = cur_idx\n",
    "NB_OBSERVED_MASS_AND_RADIUS = len(DICT_OBSERVED_MASS_AND_RADIUS_NAME_ID)"
   ]
  },
  {
   "cell_type": "code",
   "execution_count": 9,
   "id": "23c016fb",
   "metadata": {},
   "outputs": [],
   "source": [
    "MY_TAU = 1.0 / 50.0  # for kNNxKDE\n",
    "MY_NB_NEIGH = 20  # for kNNxKDE\n",
    "NB_DRAWS = 10000\n",
    "my_rad_bins = np.geomspace(1e-1, 1e2, num=101)\n",
    "my_mass_bins = np.geomspace(1e-1, 1e5, num=101)\n",
    "my_weights = np.ones(NB_DRAWS) / NB_DRAWS\n",
    "N, D = X.shape"
   ]
  },
  {
   "cell_type": "code",
   "execution_count": 12,
   "id": "c41492de",
   "metadata": {},
   "outputs": [],
   "source": [
    "save_dir = f'results_and_figures/2_comp_whole_archive'  # Reload samples\n",
    "with open(f'{save_dir}/rv_case_masses_radii_8params_nbn20_subset6.pkl', 'rb') as f:\n",
    "    imputed_samples = pickle.load(f)  # Note: samples are in log"
   ]
  },
  {
   "cell_type": "code",
   "execution_count": 13,
   "id": "31e90e80",
   "metadata": {},
   "outputs": [],
   "source": [
    "rad_distrib = np.zeros((NB_OBSERVED_MASS_AND_RADIUS, NB_DRAWS))\n",
    "mass_distrib = np.zeros((NB_OBSERVED_MASS_AND_RADIUS, NB_DRAWS))\n",
    "true_radii = np.zeros(NB_OBSERVED_MASS_AND_RADIUS)\n",
    "true_masses = np.zeros(NB_OBSERVED_MASS_AND_RADIUS)\n",
    "\n",
    "for i, (cur_name, cur_idx)  in enumerate(DICT_OBSERVED_MASS_AND_RADIUS_NAME_ID.items()):\n",
    "    rad_distrib[i] = np.exp(imputed_samples[(cur_name, 'radius')])\n",
    "    mass_distrib[i] = np.exp(imputed_samples[(cur_name, 'mass')])\n",
    "    true_radii[i] = my_df.iloc[cur_idx]['pl_radj']\n",
    "    true_masses[i] = my_df.iloc[cur_idx]['pl_bmassj']"
   ]
  },
  {
   "cell_type": "code",
   "execution_count": 14,
   "id": "5eea128e",
   "metadata": {},
   "outputs": [
    {
     "name": "stdout",
     "output_type": "stream",
     "text": [
      "1000/1000\r"
     ]
    }
   ],
   "source": [
    "nb_repeat = 1000  # Repeat convolution many time\n",
    "rad_estimates = np.zeros((NB_OBSERVED_MASS_AND_RADIUS, nb_repeat))\n",
    "mass_estimates = np.zeros((NB_OBSERVED_MASS_AND_RADIUS, nb_repeat))\n",
    "\n",
    "for n in range(nb_repeat):\n",
    "    print(f'{n+1}/{nb_repeat}', end='\\r', flush=True)\n",
    "    cur_i = np.arccos(np.random.uniform()) * 90.0 / (np.pi / 2.0)  # random inclination in degrees\n",
    "    rad_estimates[:, n], mass_estimates[:, n] = convolution_TLG2020_fix_incl(\n",
    "        rad_distrib=rad_distrib,\n",
    "        mass_distrib=mass_distrib,\n",
    "        true_masses=true_masses,\n",
    "        incl=cur_i,\n",
    "    )"
   ]
  },
  {
   "cell_type": "code",
   "execution_count": 15,
   "id": "da1f8a16",
   "metadata": {},
   "outputs": [
    {
     "name": "stdout",
     "output_type": "stream",
     "text": [
      "100/1081 -> 16:47:45                                     \n",
      "200/1081 -> 16:49:36                         \n",
      "300/1081 -> 16:51:28                           \n",
      "400/1081 -> 16:53:18                          \n",
      "500/1081 -> 16:55:08                           \n",
      "600/1081 -> 16:57:00                          \n",
      "700/1081 -> 16:58:53                          \n",
      "800/1081 -> 17:00:47                             \n",
      "900/1081 -> 17:02:33                              \n",
      "1000/1081 -> 17:04:29                         \n",
      "1081/1081... neptune                                            \r"
     ]
    }
   ],
   "source": [
    "for i, (cur_name, cur_idx)  in enumerate(DICT_OBSERVED_MASS_AND_RADIUS_NAME_ID.items()):\n",
    "    print(f'{i+1}/{NB_OBSERVED_MASS_AND_RADIUS}... {cur_name}                      ', end='\\r')\n",
    "    if ((i+1)%100)==0:\n",
    "        print(f'                                           ', end='\\r')\n",
    "        print(f'{i+1}/{NB_OBSERVED_MASS_AND_RADIUS} -> {time.strftime(\"%H:%M:%S\", time.localtime())}')\n",
    "\n",
    "    fig, ax = plt.subplots(2, 1, figsize=(8, 5))\n",
    "\n",
    "    ax[0].hist(rad_distrib[i]*RJ, bins=my_rad_bins, weights=my_weights, color='C3', alpha=0.4)\n",
    "    rad_estim = np.mean(rad_estimates[i])\n",
    "    rad_eps = np.log(true_radii[i]) - np.log(rad_estim)\n",
    "    ax[0].axvline(rad_estim*RJ, ls=(0, (3, 3)), c='C3', lw=2, label=f'$\\\\varepsilon=${rad_eps:.4f}')\n",
    "    ax[0].axvline(true_radii[i]*RJ, ls=(0, (3, 3)), c='black', lw=2)\n",
    "    ax[0].set_xscale('log')\n",
    "    ax[0].set_xlabel('Radius [r$_\\oplus$]')\n",
    "    ax[0].set_ylabel('Proportion')\n",
    "    ax[0].legend()\n",
    "\n",
    "    ax[1].hist(mass_distrib[i]*MJ, bins=my_mass_bins, weights=my_weights, color='C3', alpha=0.4)\n",
    "    mass_estim = np.mean(mass_estimates[i])\n",
    "    mass_eps = np.log(true_masses[i]) - np.log(mass_estim)\n",
    "    ax[1].axvline(mass_estim*MJ, ls=(0, (3, 3)), c='C3', lw=2, label=f'$\\\\varepsilon=${mass_eps:.4f}')\n",
    "    ax[1].axvline(true_masses[i]*MJ, ls=(0, (3, 3)), c='black', lw=2)\n",
    "    ax[1].set_xscale('log')\n",
    "    ax[1].set_xlabel('Mass [m$_\\oplus$]')\n",
    "    ax[1].set_ylabel('Proportion')\n",
    "    ax[1].legend()\n",
    "\n",
    "    props = dict(boxstyle='round', facecolor='white', alpha=0.1)\n",
    "    ax[0].text(1.02, 0.98, generate_planet_bio(cur_idx), transform=ax[0].transAxes, fontsize=10, verticalalignment='top', bbox=props)\n",
    "    ax[0].set_title(my_df.iloc[cur_idx]['pl_name'])\n",
    "    fig.tight_layout()\n",
    "    plt.savefig(f'results_and_figures/2_comp_whole_archive/distrib_rv_all8params/distrib_{str(i).zfill(4)}[{str(cur_idx).zfill(4)}].pdf')\n",
    "    plt.close()"
   ]
  },
  {
   "cell_type": "code",
   "execution_count": null,
   "id": "a351c052",
   "metadata": {},
   "outputs": [],
   "source": []
  }
 ],
 "metadata": {
  "kernelspec": {
   "display_name": "Python 3 (ipykernel)",
   "language": "python",
   "name": "python3"
  },
  "language_info": {
   "codemirror_mode": {
    "name": "ipython",
    "version": 3
   },
   "file_extension": ".py",
   "mimetype": "text/x-python",
   "name": "python",
   "nbconvert_exporter": "python",
   "pygments_lexer": "ipython3",
   "version": "3.11.5"
  }
 },
 "nbformat": 4,
 "nbformat_minor": 5
}

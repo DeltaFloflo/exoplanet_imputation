{
 "cells": [
  {
   "cell_type": "markdown",
   "id": "d192b6d8",
   "metadata": {},
   "source": [
    "# 1.2. Individual planet distribution analysis\n",
    "\n",
    "Now, we investigate the planet's radius/mass distribution.  \n",
    "For the Transit case, we plot the mass distribution for each of the 150 test planets. Default final estimate is the distribution average.  \n",
    "For the RV case, we plot the bivariate mass/radius distribution for each of the 150 test planets. We also add the final estimate as the weighted average after convolution."
   ]
  },
  {
   "cell_type": "code",
   "execution_count": 1,
   "id": "a812e47c",
   "metadata": {},
   "outputs": [
    {
     "name": "stderr",
     "output_type": "stream",
     "text": [
      "2024-03-09 13:49:48.339721: I tensorflow/core/platform/cpu_feature_guard.cc:182] This TensorFlow binary is optimized to use available CPU instructions in performance-critical operations.\n",
      "To enable the following instructions: AVX2 FMA, in other operations, rebuild TensorFlow with the appropriate compiler flags.\n"
     ]
    },
    {
     "name": "stdout",
     "output_type": "stream",
     "text": [
      "WARNING:tensorflow:From /Users/florianlalande/anaconda3/lib/python3.11/site-packages/tensorflow/python/compat/v2_compat.py:108: disable_resource_variables (from tensorflow.python.ops.variable_scope) is deprecated and will be removed in a future version.\n",
      "Instructions for updating:\n",
      "non-resource variables are not supported in the long term\n"
     ]
    }
   ],
   "source": [
    "import pickle\n",
    "import numpy as np\n",
    "import pandas as pd\n",
    "import seaborn as sns\n",
    "import matplotlib.pyplot as plt\n",
    "\n",
    "from sklearn.experimental import enable_iterative_imputer\n",
    "from sklearn.impute import SimpleImputer, IterativeImputer, KNNImputer\n",
    "from sklearn.linear_model import BayesianRidge\n",
    "from sklearn.ensemble import ExtraTreesRegressor\n",
    "\n",
    "from knnxkde import KNNxKDE\n",
    "from utils import normalization, renormalization, compute_epsilon, importance_sampling\n",
    "from utils import convolution_TLG2020_fix_incl\n",
    "from GAIN.gain import gain"
   ]
  },
  {
   "cell_type": "code",
   "execution_count": 2,
   "id": "c2c60779",
   "metadata": {},
   "outputs": [],
   "source": [
    "rv_dists = np.load('data/mdists__mask[001111]Ndist2000_2018-08-23_mcsteps3000_loss-0.32_multitrain0_0.npy')\n",
    "transit_dists = np.load('data/mdists__mask[101111]Ndist2000_2018-08-23_mcsteps3000_loss-0.32_multitrain0_0.npy')"
   ]
  },
  {
   "cell_type": "code",
   "execution_count": 3,
   "id": "bf962546",
   "metadata": {},
   "outputs": [],
   "source": [
    "colnames = ['idx', 'pl_name', 'pl_radj', 'pl_bmassj', 'pl_orbper', 'pl_teq', 'pl_pnum', 'st_mass']\n",
    "all_planets = pd.read_csv('data/NEA_radmasstpersmasspnum.csv', names=colnames, sep=',', skiprows=1)\n",
    "\n",
    "rs = np.random.RandomState(12345)\n",
    "dataidx = rs.permutation(all_planets.shape[0])  # it's the very same, I have checked\n",
    "\n",
    "train_names = all_planets['pl_name'][dataidx[0:400]]\n",
    "test_names = all_planets['pl_name'][dataidx[400:]]\n",
    "\n",
    "true_masses = np.array(all_planets.iloc[dataidx[400:]]['pl_bmassj'])\n",
    "true_radii = np.array(all_planets.iloc[dataidx[400:]]['pl_radj'])"
   ]
  },
  {
   "cell_type": "code",
   "execution_count": 4,
   "id": "9f376467",
   "metadata": {},
   "outputs": [],
   "source": [
    "def generate_planet_bio(n):\n",
    "    cur_data = all_planets.iloc[dataidx[400+n]]\n",
    "    pl_rade = cur_data['pl_radj'] * RJ  # radius in Earth radii\n",
    "    pl_masse = cur_data['pl_bmassj'] * MJ  # mass in Earth masses\n",
    "    pl_orbper = cur_data['pl_orbper']  # in days\n",
    "    pl_teq = cur_data['pl_teq']  # in K\n",
    "    st_mass = cur_data['st_mass']  # in Solar masses\n",
    "    pl_pnum = cur_data['pl_pnum']\n",
    "    my_text = fr'Rad. = {pl_rade:.3f} $r_\\oplus$' + '\\n'\n",
    "    my_text += fr'Mass = {pl_masse:.3f} $m_\\oplus$' + '\\n'\n",
    "    my_text += fr'OrbPer = {pl_orbper:.2f} days' + '\\n'\n",
    "    my_text += fr'T.Eq. = {pl_teq:.0f} K' + '\\n'\n",
    "    my_text += fr'StMass = {st_mass:.3f} $m_\\odot$' + '\\n'\n",
    "    my_text += fr'Nb. Pl. = {pl_pnum}'\n",
    "    return my_text"
   ]
  },
  {
   "cell_type": "markdown",
   "id": "b0829a0a",
   "metadata": {},
   "source": [
    "## A. Transit case\n",
    "\n",
    "For now, I tried with three different bandwidths in order to analyze the effects on the resulting distributions.  \n",
    "I choose bandwidth $h=0.05$ for the plots and the rest of the paper."
   ]
  },
  {
   "cell_type": "code",
   "execution_count": 7,
   "id": "6000b6d6",
   "metadata": {},
   "outputs": [],
   "source": [
    "original_data = np.array(all_planets[['pl_radj', 'pl_bmassj', 'pl_orbper', 'pl_teq', 'pl_pnum', 'st_mass']])\n",
    "log_original_data = np.copy(original_data)\n",
    "for d in [0, 1, 2, 3, 5]:\n",
    "    log_original_data[:, d] = np.log(original_data[:, d])  # take the log for all columns except pl_pnum\n",
    "\n",
    "miss_data = np.copy(log_original_data)\n",
    "for idx in dataidx[400:]:\n",
    "    miss_data[idx, 1] = np.nan  # For transit case: hide the mass only\n",
    "\n",
    "norm_miss_data, norm_params = normalization(miss_data)\n",
    "norm_log_original_data, _ = normalization(log_original_data, parameters=norm_params)"
   ]
  },
  {
   "cell_type": "code",
   "execution_count": 8,
   "id": "af874797",
   "metadata": {},
   "outputs": [],
   "source": [
    "MY_TAU = 1.0 / 50.0\n",
    "MY_NB_NEIGH = 20\n",
    "knnxkde = KNNxKDE(h=0.05, tau=MY_TAU, nb_neigh=MY_NB_NEIGH, metric='nan_std_eucl')\n",
    "knnxkde_samples = knnxkde.impute_samples(norm_miss_data, nb_draws=10000)"
   ]
  },
  {
   "cell_type": "code",
   "execution_count": 9,
   "id": "8ab01516",
   "metadata": {},
   "outputs": [],
   "source": [
    "m1 = norm_params['min_val'][1]\n",
    "m2 = norm_params['max_val'][1]\n",
    "\n",
    "mass_distrib_TLG2020 = np.zeros((150, 2000))\n",
    "mass_distrib_FLO = np.zeros((150, 10000))\n",
    "imputed_masses_FLO = np.zeros(150)\n",
    "for n in range(150):\n",
    "    mass_distrib_TLG2020[n] = transit_dists[n, :, 1]\n",
    "    mass_distrib_FLO[n] = np.exp(knnxkde_samples[(dataidx[400+n], 1)] * (m2 + 1e-6) + m1)\n",
    "    imputed_masses_FLO[n] = np.exp(np.mean(knnxkde_samples[(dataidx[400+n], 1)]) * (m2 + 1e-6) + m1)"
   ]
  },
  {
   "cell_type": "code",
   "execution_count": 10,
   "id": "5f8abebc",
   "metadata": {},
   "outputs": [],
   "source": [
    "bins = 500  # Reproduce TLG2020 epsilon results: impute with mode\n",
    "logbins = np.logspace(np.log10(0.0001), np.log10(100.0), num=bins)  # in M_J\n",
    "\n",
    "imputed_masses_TLG2020 = np.zeros(150)\n",
    "for n in range(150):\n",
    "    hist = np.histogram(transit_dists[n, :, 1], bins=logbins, density=False)\n",
    "    mid_points = (hist[1][:-1] + hist[1][1:]) / 2.0\n",
    "    imputed_masses_TLG2020[n] = mid_points[np.argmax(hist[0])]"
   ]
  },
  {
   "cell_type": "code",
   "execution_count": 11,
   "id": "f3c0bf24",
   "metadata": {},
   "outputs": [
    {
     "name": "stdout",
     "output_type": "stream",
     "text": [
      "(150,)\n",
      "(150,)\n"
     ]
    }
   ],
   "source": [
    "individual_epsilons_TLG2020 = np.log(true_masses) - np.log(imputed_masses_TLG2020)\n",
    "print(individual_epsilons_TLG2020.shape)\n",
    "individual_epsilons_FLO = np.log(true_masses) - np.log(imputed_masses_FLO)\n",
    "print(individual_epsilons_FLO.shape)"
   ]
  },
  {
   "cell_type": "code",
   "execution_count": 64,
   "id": "b6876aa4",
   "metadata": {},
   "outputs": [],
   "source": [
    "RJ = 11.21  # in Earth radii\n",
    "MJ = 317.8  # in Earth masses\n",
    "my_mass_bins = np.geomspace(1e-1, 1e5, num=101)\n",
    "my_weights_FLO = np.ones(mass_distrib_FLO.shape[-1]) / mass_distrib_FLO.shape[-1]\n",
    "my_weights_TLG2020 = np.ones(mass_distrib_TLG2020.shape[-1]) / mass_distrib_TLG2020.shape[-1]"
   ]
  },
  {
   "cell_type": "code",
   "execution_count": 91,
   "id": "4dd1536c",
   "metadata": {},
   "outputs": [
    {
     "name": "stdout",
     "output_type": "stream",
     "text": [
      "150\r"
     ]
    }
   ],
   "source": [
    "for n in range(150):\n",
    "    print(f'{n+1}', end='\\r')\n",
    "    fig, ax = plt.subplots(1, 1, figsize=(8, 3))\n",
    "    true_mass = true_masses[n] * MJ\n",
    "    imp_mass_FLO = imputed_masses_FLO[n] * MJ\n",
    "    imp_mass_TLG2020 = imputed_masses_TLG2020[n] * MJ\n",
    "    eps_FLO = individual_epsilons_FLO[n]\n",
    "    eps_TLG2020 = individual_epsilons_TLG2020[n]\n",
    "    \n",
    "    ax.hist(mass_distrib_TLG2020[n]*MJ, bins=my_mass_bins, weights=my_weights_TLG2020, color='grey', alpha=0.4)\n",
    "    ax.hist(mass_distrib_FLO[n]*MJ, bins=my_mass_bins, weights=my_weights_FLO, color='C3', alpha=0.4)\n",
    "    ax.axvline(true_mass, ls=(0, (3, 3)), c='black', lw=2)\n",
    "    ax.axvline(imp_mass_FLO, ls=(0, (3, 3)), c='C3', lw=2, label=f'$\\\\varepsilon=${eps_FLO:.4f}')\n",
    "    ax.axvline(imp_mass_TLG2020, ls=(0, (3, 3)), c='grey', lw=2, label=f'$\\\\varepsilon=${eps_TLG2020:.4f}')\n",
    "    ax.set_xscale('log')\n",
    "    ax.set_xlabel('Mass [m$_\\oplus$]')\n",
    "    ax.set_ylabel('Proportion')\n",
    "    ax.legend()\n",
    "\n",
    "    props = dict(boxstyle='round', facecolor='white', alpha=0.1)\n",
    "    ax.text(1.02, 0.98, generate_planet_bio(n), transform=ax.transAxes, fontsize=10, verticalalignment='top', bbox=props)\n",
    "    \n",
    "    ax.set_title(test_names.iloc[n])\n",
    "    fig.tight_layout()\n",
    "    plt.savefig(f'results_and_figures/comparison_tlg2020/distrib_transit/hist_{str(n).zfill(3)}.pdf')\n",
    "    plt.close()"
   ]
  },
  {
   "cell_type": "markdown",
   "id": "3745ce1f",
   "metadata": {},
   "source": [
    "## B. RV case\n",
    "\n",
    "For the RV case, I directly stick with bandwidth $h=0.05$"
   ]
  },
  {
   "cell_type": "code",
   "execution_count": 92,
   "id": "33142c96",
   "metadata": {},
   "outputs": [],
   "source": [
    "original_data = np.array(all_planets[['pl_radj', 'pl_bmassj', 'pl_orbper', 'pl_teq', 'pl_pnum', 'st_mass']])\n",
    "log_original_data = np.copy(original_data)\n",
    "for d in [0, 1, 2, 3, 5]:\n",
    "    log_original_data[:, d] = np.log(original_data[:, d])  # take the log for all columns except pl_pnum\n",
    "\n",
    "miss_data = np.copy(log_original_data)\n",
    "for idx in dataidx[400:]:\n",
    "    miss_data[idx, 0] = np.nan  # For RV case: hide the radius...\n",
    "    miss_data[idx, 1] = np.nan  # and the mass!\n",
    "\n",
    "norm_miss_data, norm_params = normalization(miss_data)\n",
    "norm_log_original_data, _ = normalization(log_original_data, parameters=norm_params)"
   ]
  },
  {
   "cell_type": "code",
   "execution_count": 93,
   "id": "5189000d",
   "metadata": {},
   "outputs": [],
   "source": [
    "MY_TAU = 1.0 / 50.0\n",
    "MY_NB_NEIGH = 20\n",
    "knnxkde = KNNxKDE(h=0.05, tau=MY_TAU, nb_neigh=MY_NB_NEIGH, metric='nan_std_eucl')\n",
    "knnxkde_samples = knnxkde.impute_samples(norm_miss_data, nb_draws=10000)"
   ]
  },
  {
   "cell_type": "code",
   "execution_count": 94,
   "id": "6bb60eb6",
   "metadata": {},
   "outputs": [],
   "source": [
    "RJ = 11.21  # in Earth radii\n",
    "MJ = 317.8  # in Earth masses\n",
    "r1 = norm_params['min_val'][0]\n",
    "r2 = norm_params['max_val'][0]\n",
    "m1 = norm_params['min_val'][1]\n",
    "m2 = norm_params['max_val'][1]\n",
    "\n",
    "rad_distrib_TLG2020 = np.zeros((150, 2000))\n",
    "rad_distrib_FLO = np.zeros((150, 10000))\n",
    "mass_distrib_TLG2020 = np.zeros((150, 2000))\n",
    "mass_distrib_FLO = np.zeros((150, 10000))\n",
    "for n in range(150):\n",
    "    rad_distrib_TLG2020[n] = rv_dists[n, :, 0]\n",
    "    mass_distrib_TLG2020[n] = rv_dists[n, :, 1]\n",
    "    rad_distrib_FLO[n] = np.exp(knnxkde_samples[(dataidx[400+n], 0)] * (r2 + 1e-6) + r1)\n",
    "    mass_distrib_FLO[n] = np.exp(knnxkde_samples[(dataidx[400+n], 1)] * (m2 + 1e-6) + m1)"
   ]
  },
  {
   "cell_type": "code",
   "execution_count": 95,
   "id": "7f48edee",
   "metadata": {},
   "outputs": [
    {
     "name": "stdout",
     "output_type": "stream",
     "text": [
      "1000/1000\r"
     ]
    }
   ],
   "source": [
    "nb_repeat = 1000\n",
    "estimates_TLG2020 = np.zeros((2, 150, nb_repeat))  # radius and mass for each planet\n",
    "estimates_FLO = np.zeros((2, 150, nb_repeat))  # radius and mass for each planet\n",
    "\n",
    "for n in range(nb_repeat):\n",
    "    print(f'{n+1}/{nb_repeat}', end='\\r', flush=True)\n",
    "    cur_i = np.arccos(np.random.uniform()) * 90.0 / (np.pi / 2.0)  # random inclination in degrees\n",
    "    estimates_TLG2020[0, :, n], estimates_TLG2020[1, :, n] = convolution_TLG2020_fix_incl(\n",
    "        rad_distrib=rad_distrib_TLG2020,\n",
    "        mass_distrib=mass_distrib_TLG2020,\n",
    "        true_masses=true_masses,\n",
    "        incl=cur_i,\n",
    "    )\n",
    "    estimates_FLO[0, :, n], estimates_FLO[1, :, n] = convolution_TLG2020_fix_incl(\n",
    "        rad_distrib=rad_distrib_FLO,\n",
    "        mass_distrib=mass_distrib_FLO,\n",
    "        true_masses=true_masses,\n",
    "        incl=cur_i,\n",
    "    )"
   ]
  },
  {
   "cell_type": "code",
   "execution_count": 98,
   "id": "2960cf54",
   "metadata": {},
   "outputs": [
    {
     "name": "stdout",
     "output_type": "stream",
     "text": [
      "(2, 150, 1000)\n",
      "(2, 150, 1000)\n"
     ]
    }
   ],
   "source": [
    "epsilons_TLG2020 = np.zeros((2, 150, nb_repeat))  # radius and mass for each planet\n",
    "epsilons_FLO = np.zeros((2, 150, nb_repeat))  # radius and mass for each planet\n",
    "\n",
    "epsilons_TLG2020[0] = np.expand_dims(np.log(true_radii), -1) - np.log(estimates_TLG2020[0])\n",
    "epsilons_TLG2020[1] = np.expand_dims(np.log(true_masses), -1) - np.log(estimates_TLG2020[1])\n",
    "print(epsilons_TLG2020.shape)\n",
    "epsilons_FLO[0] = np.expand_dims(np.log(true_radii), -1) - np.log(estimates_FLO[0])\n",
    "epsilons_FLO[1] = np.expand_dims(np.log(true_masses), -1) - np.log(estimates_FLO[1])\n",
    "print(epsilons_FLO.shape)"
   ]
  },
  {
   "cell_type": "code",
   "execution_count": 99,
   "id": "027d30ea",
   "metadata": {},
   "outputs": [],
   "source": [
    "my_rad_bins = np.geomspace(1e-1, 1e2, num=101)\n",
    "my_mass_bins = np.geomspace(1e-1, 1e5, num=101)\n",
    "my_weights_FLO = np.ones(mass_distrib_FLO.shape[-1]) / mass_distrib_FLO.shape[-1]\n",
    "my_weights_TLG2020 = np.ones(mass_distrib_TLG2020.shape[-1]) / mass_distrib_TLG2020.shape[-1]"
   ]
  },
  {
   "cell_type": "code",
   "execution_count": 103,
   "id": "e3dd5b07",
   "metadata": {},
   "outputs": [
    {
     "name": "stdout",
     "output_type": "stream",
     "text": [
      "150\r"
     ]
    }
   ],
   "source": [
    "for n in range(150):\n",
    "    print(f'{n+1}', end='\\r')\n",
    "    fig, ax = plt.subplots(2, 1, figsize=(8, 5))\n",
    "    true_rad = true_radii[n] * RJ\n",
    "    true_mass = true_masses[n] * MJ\n",
    "    imp_rad_FLO = np.mean(estimates_FLO[0, n, :], axis=-1) * RJ\n",
    "    imp_mass_FLO = np.mean(estimates_FLO[1, n, :], axis=-1) * MJ\n",
    "    imp_rad_TLG2020 = np.mean(estimates_TLG2020[0, n, :]) * RJ\n",
    "    imp_mass_TLG2020 = np.mean(estimates_TLG2020[1, n, :]) * MJ\n",
    "    eps_rad_FLO = np.mean(epsilons_FLO[0, n, :], axis=-1)\n",
    "    eps_mass_FLO = np.mean(epsilons_FLO[1, n, :], axis=-1)\n",
    "    eps_rad_TLG2020 = np.mean(epsilons_TLG2020[0, n, :])\n",
    "    eps_mass_TLG2020 = np.mean(epsilons_TLG2020[1, n, :])\n",
    "    ax[0].hist(rad_distrib_TLG2020[n]*RJ, bins=my_rad_bins, weights=my_weights_TLG2020, color='grey', alpha=0.4)\n",
    "    ax[0].hist(rad_distrib_FLO[n]*RJ, bins=my_rad_bins, weights=my_weights_FLO, color='C3', alpha=0.4)\n",
    "    ax[0].set_xlabel('Radius [r$_\\oplus$]')\n",
    "    ax[0].axvline(true_rad, ls=(0, (3, 3)), c='black', lw=2)\n",
    "    ax[0].axvline(imp_rad_TLG2020, ls=(0, (3, 3)), c='grey', lw=2, label=f'$\\\\varepsilon=${eps_rad_TLG2020:.4f}')\n",
    "    ax[0].axvline(imp_rad_FLO, ls=(0, (3, 3)), c='C3', lw=2, label=f'$\\\\varepsilon=${eps_rad_FLO:.4f}')\n",
    "    ax[1].hist(mass_distrib_TLG2020[n]*MJ, bins=my_mass_bins, weights=my_weights_TLG2020, color='grey', alpha=0.4)\n",
    "    ax[1].hist(mass_distrib_FLO[n]*MJ, bins=my_mass_bins, weights=my_weights_FLO, color='C3', alpha=0.4)\n",
    "    ax[1].set_xlabel('Mass [m$_\\oplus$]')\n",
    "    ax[1].axvline(true_mass, ls=(0, (3, 3)), c='black', lw=2)\n",
    "    ax[1].axvline(imp_mass_TLG2020, ls=(0, (3, 3)), c='grey', lw=2, label=f'$\\\\varepsilon=${eps_mass_TLG2020:.4f}')\n",
    "    ax[1].axvline(imp_mass_FLO, ls=(0, (3, 3)), c='C3', lw=2, label=f'$\\\\varepsilon=${eps_mass_FLO:.4f}')\n",
    "    for n2 in range(2):\n",
    "        ax[n2].set_xscale('log')\n",
    "        ax[n2].set_ylabel('Proportion')\n",
    "        ax[n2].legend()\n",
    "    ax[0].set_title(test_names.iloc[n], size=14)\n",
    "    \n",
    "    props = dict(boxstyle='round', facecolor='white', alpha=0.1)\n",
    "    ax[0].text(1.02, 0.98, generate_planet_bio(n), transform=ax[0].transAxes, fontsize=10, verticalalignment='top', bbox=props)\n",
    "    \n",
    "    fig.tight_layout()\n",
    "    plt.savefig(f'results_and_figures/comparison_tlg2020/distrib_rv/hist_{str(n).zfill(3)}.pdf')\n",
    "    plt.close()"
   ]
  },
  {
   "cell_type": "markdown",
   "id": "df6a8498",
   "metadata": {},
   "source": [
    "## C. Plot for special planets in the paper\n",
    "\n",
    "Separate pretty plots for the planets featured in the paper."
   ]
  },
  {
   "cell_type": "markdown",
   "id": "851fb46d",
   "metadata": {},
   "source": [
    "### C. A. Transit planets"
   ]
  },
  {
   "cell_type": "code",
   "execution_count": 22,
   "id": "f22950e6",
   "metadata": {},
   "outputs": [],
   "source": [
    "original_data = np.array(all_planets[['pl_radj', 'pl_bmassj', 'pl_orbper', 'pl_teq', 'pl_pnum', 'st_mass']])\n",
    "log_original_data = np.copy(original_data)\n",
    "for d in [0, 1, 2, 3, 5]:\n",
    "    log_original_data[:, d] = np.log(original_data[:, d])  # take the log for all columns except pl_pnum\n",
    "\n",
    "miss_data = np.copy(log_original_data)\n",
    "for idx in dataidx[400:]:\n",
    "    miss_data[idx, 1] = np.nan  # For transit case: hide the mass only\n",
    "\n",
    "norm_miss_data, norm_params = normalization(miss_data)\n",
    "norm_log_original_data, _ = normalization(log_original_data, parameters=norm_params)"
   ]
  },
  {
   "cell_type": "code",
   "execution_count": 23,
   "id": "7718c808",
   "metadata": {},
   "outputs": [],
   "source": [
    "MY_TAU = 1.0 / 50.0\n",
    "MY_NB_NEIGH = 20\n",
    "knnxkde = KNNxKDE(h=0.05, tau=MY_TAU, nb_neigh=MY_NB_NEIGH, metric='nan_std_eucl')\n",
    "knnxkde_samples = knnxkde.impute_samples(norm_miss_data, nb_draws=10000)"
   ]
  },
  {
   "cell_type": "code",
   "execution_count": 24,
   "id": "5bc8b829",
   "metadata": {},
   "outputs": [],
   "source": [
    "m1 = norm_params['min_val'][1]\n",
    "m2 = norm_params['max_val'][1]\n",
    "\n",
    "mass_distrib_TLG2020 = np.zeros((150, 2000))\n",
    "mass_distrib_FLO = np.zeros((150, 10000))\n",
    "imputed_masses_FLO = np.zeros(150)\n",
    "for n in range(150):\n",
    "    mass_distrib_TLG2020[n] = transit_dists[n, :, 1]\n",
    "    mass_distrib_FLO[n] = np.exp(knnxkde_samples[(dataidx[400+n], 1)] * (m2 + 1e-6) + m1)\n",
    "    imputed_masses_FLO[n] = np.exp(np.mean(knnxkde_samples[(dataidx[400+n], 1)]) * (m2 + 1e-6) + m1)"
   ]
  },
  {
   "cell_type": "code",
   "execution_count": 25,
   "id": "e07a2057",
   "metadata": {},
   "outputs": [],
   "source": [
    "bins = 500  # Reproduce TLG2020 epsilon results: impute with mode\n",
    "logbins = np.logspace(np.log10(0.0001), np.log10(100.0), num=bins)  # in M_J\n",
    "\n",
    "imputed_masses_TLG2020 = np.zeros(150)\n",
    "for n in range(150):\n",
    "    hist = np.histogram(transit_dists[n, :, 1], bins=logbins, density=False)\n",
    "    mid_points = (hist[1][:-1] + hist[1][1:]) / 2.0\n",
    "    imputed_masses_TLG2020[n] = mid_points[np.argmax(hist[0])]"
   ]
  },
  {
   "cell_type": "code",
   "execution_count": 26,
   "id": "fc3851a6",
   "metadata": {},
   "outputs": [
    {
     "name": "stdout",
     "output_type": "stream",
     "text": [
      "(150,)\n",
      "(150,)\n"
     ]
    }
   ],
   "source": [
    "individual_epsilons_TLG2020 = np.log(true_masses) - np.log(imputed_masses_TLG2020)\n",
    "print(individual_epsilons_TLG2020.shape)\n",
    "individual_epsilons_FLO = np.log(true_masses) - np.log(imputed_masses_FLO)\n",
    "print(individual_epsilons_FLO.shape)"
   ]
  },
  {
   "cell_type": "code",
   "execution_count": 27,
   "id": "c3cd2406",
   "metadata": {},
   "outputs": [],
   "source": [
    "RJ = 11.21  # in Earth radii\n",
    "MJ = 317.8  # in Earth masses\n",
    "my_mass_bins = np.geomspace(1e-1, 1e5, num=101)\n",
    "my_weights_FLO = np.ones(mass_distrib_FLO.shape[-1]) / mass_distrib_FLO.shape[-1]\n",
    "my_weights_TLG2020 = np.ones(mass_distrib_TLG2020.shape[-1]) / mass_distrib_TLG2020.shape[-1]"
   ]
  },
  {
   "cell_type": "code",
   "execution_count": 28,
   "id": "673b0400",
   "metadata": {},
   "outputs": [],
   "source": [
    "def generate_planet_short_bio(n):\n",
    "    cur_data = all_planets.iloc[dataidx[400+n]]\n",
    "    pl_rade = cur_data['pl_radj'] * RJ  # radius in Earth radii\n",
    "    pl_masse = cur_data['pl_bmassj'] * MJ  # mass in Earth masses\n",
    "    pl_orbper = cur_data['pl_orbper']  # in days\n",
    "    pl_teq = cur_data['pl_teq']  # in K\n",
    "    st_mass = cur_data['st_mass']  # in Solar masses\n",
    "    pl_pnum = cur_data['pl_pnum']\n",
    "    my_text = fr'$r_p$ = {pl_rade:.1f} $r_\\oplus$' + '\\n'\n",
    "    my_text += fr'$m_p$ = {pl_masse:.1f} $m_\\oplus$' + '\\n'\n",
    "    my_text += fr'$P$ = {pl_orbper:.1f} days' + '\\n'\n",
    "    my_text += r'$T_{\\rm eq.}$' + f' = {pl_teq:.0f} K' + '\\n'\n",
    "    my_text += fr'$m_\\ast$ = {st_mass:.1f} $m_\\odot$' + '\\n'\n",
    "    my_text += r'$N_{\\rm pl.}$' + f' = {pl_pnum}'\n",
    "    return my_text"
   ]
  },
  {
   "cell_type": "code",
   "execution_count": 29,
   "id": "7a8615da",
   "metadata": {},
   "outputs": [
    {
     "data": {
      "image/png": "[encoded data removed]",
      "text/plain": [
       "<Figure size 504x576 with 3 Axes>"
      ]
     },
     "metadata": {
      "needs_background": "light"
     },
     "output_type": "display_data"
    }
   ],
   "source": [
    "fig, ax = plt.subplots(3, 1, figsize=(7, 8))\n",
    "\n",
    "for n1, n2 in enumerate([104, 139, 65]):\n",
    "    true_mass = true_masses[n2] * MJ\n",
    "    imp_mass_FLO = imputed_masses_FLO[n2] * MJ\n",
    "    imp_mass_TLG2020 = imputed_masses_TLG2020[n2] * MJ\n",
    "    eps_FLO = individual_epsilons_FLO[n2]\n",
    "    eps_TLG2020 = individual_epsilons_TLG2020[n2]\n",
    "    \n",
    "    ax[n1].hist(mass_distrib_TLG2020[n2]*MJ, bins=my_mass_bins, weights=my_weights_TLG2020, color='grey', alpha=0.4)\n",
    "    ax[n1].hist(mass_distrib_FLO[n2]*MJ, bins=my_mass_bins, weights=my_weights_FLO, color='C3', alpha=0.4)\n",
    "    ax[n1].axvline(true_mass, ls=(0, (3, 3)), c='black', lw=2)\n",
    "    ax[n1].axvline(imp_mass_FLO, ls=(0, (3, 3)), c='C3', lw=2, label=f'$|\\\\varepsilon|=${np.abs(eps_FLO):.2f}')\n",
    "    ax[n1].axvline(imp_mass_TLG2020, ls=(0, (1, 1)), c='grey', lw=3, label=f'$|\\\\varepsilon|=${np.abs(eps_TLG2020):.2f}')\n",
    "    ax[n1].set_xscale('log')\n",
    "    ax[n1].set_ylabel('Proportion', size=12)\n",
    "    ax[n1].legend(loc='upper left', prop={'size': 11})\n",
    "\n",
    "    props = dict(boxstyle='round', facecolor='grey', alpha=0.1)\n",
    "    ax[n1].text(0.80, 0.95, generate_planet_short_bio(n2), transform=ax[n1].transAxes, fontsize=10, verticalalignment='top', bbox=props)\n",
    "    ax[n1].set_title(test_names.iloc[n2])\n",
    "\n",
    "ax[2].set_xlabel('Mass [m$_\\oplus$]', size=12)\n",
    "\n",
    "fig.tight_layout()\n",
    "plt.savefig('additional_final_figures/comparison_tlg2020_transit_chosen_distributions3.pdf')\n",
    "plt.show()"
   ]
  },
  {
   "cell_type": "markdown",
   "id": "e6ffec6d",
   "metadata": {},
   "source": [
    "### C. B. RV planets"
   ]
  },
  {
   "cell_type": "code",
   "execution_count": 30,
   "id": "d341286d",
   "metadata": {},
   "outputs": [],
   "source": [
    "original_data = np.array(all_planets[['pl_radj', 'pl_bmassj', 'pl_orbper', 'pl_teq', 'pl_pnum', 'st_mass']])\n",
    "log_original_data = np.copy(original_data)\n",
    "for d in [0, 1, 2, 3, 5]:\n",
    "    log_original_data[:, d] = np.log(original_data[:, d])  # take the log for all columns except pl_pnum\n",
    "\n",
    "miss_data = np.copy(log_original_data)\n",
    "for idx in dataidx[400:]:\n",
    "    miss_data[idx, 0] = np.nan  # For RV case: hide the radius...\n",
    "    miss_data[idx, 1] = np.nan  # and the mass!\n",
    "\n",
    "norm_miss_data, norm_params = normalization(miss_data)\n",
    "norm_log_original_data, _ = normalization(log_original_data, parameters=norm_params)"
   ]
  },
  {
   "cell_type": "code",
   "execution_count": 31,
   "id": "e504530b",
   "metadata": {},
   "outputs": [],
   "source": [
    "MY_TAU = 1.0 / 50.0\n",
    "MY_NB_NEIGH = 20\n",
    "knnxkde = KNNxKDE(h=0.05, tau=MY_TAU, nb_neigh=MY_NB_NEIGH, metric='nan_std_eucl')\n",
    "knnxkde_samples = knnxkde.impute_samples(norm_miss_data, nb_draws=10000)"
   ]
  },
  {
   "cell_type": "code",
   "execution_count": 32,
   "id": "6f45815d",
   "metadata": {},
   "outputs": [],
   "source": [
    "RJ = 11.21  # in Earth radii\n",
    "MJ = 317.8  # in Earth masses\n",
    "r1 = norm_params['min_val'][0]\n",
    "r2 = norm_params['max_val'][0]\n",
    "m1 = norm_params['min_val'][1]\n",
    "m2 = norm_params['max_val'][1]\n",
    "\n",
    "rad_distrib_TLG2020 = np.zeros((150, 2000))\n",
    "rad_distrib_FLO = np.zeros((150, 10000))\n",
    "mass_distrib_TLG2020 = np.zeros((150, 2000))\n",
    "mass_distrib_FLO = np.zeros((150, 10000))\n",
    "for n in range(150):\n",
    "    rad_distrib_TLG2020[n] = rv_dists[n, :, 0]\n",
    "    mass_distrib_TLG2020[n] = rv_dists[n, :, 1]\n",
    "    rad_distrib_FLO[n] = np.exp(knnxkde_samples[(dataidx[400+n], 0)] * (r2 + 1e-6) + r1)\n",
    "    mass_distrib_FLO[n] = np.exp(knnxkde_samples[(dataidx[400+n], 1)] * (m2 + 1e-6) + m1)"
   ]
  },
  {
   "cell_type": "code",
   "execution_count": 33,
   "id": "cf111207",
   "metadata": {},
   "outputs": [
    {
     "name": "stdout",
     "output_type": "stream",
     "text": [
      "100/100\r"
     ]
    }
   ],
   "source": [
    "nb_repeat = 100\n",
    "estimates_TLG2020 = np.zeros((2, 150, nb_repeat))  # radius and mass for each planet\n",
    "estimates_FLO = np.zeros((2, 150, nb_repeat))  # radius and mass for each planet\n",
    "\n",
    "for n in range(nb_repeat):\n",
    "    print(f'{n+1}/{nb_repeat}', end='\\r', flush=True)\n",
    "    cur_i = np.arccos(np.random.uniform()) * 90.0 / (np.pi / 2.0)  # random inclination in degrees\n",
    "    estimates_TLG2020[0, :, n], estimates_TLG2020[1, :, n] = convolution_TLG2020_fix_incl(\n",
    "        rad_distrib=rad_distrib_TLG2020,\n",
    "        mass_distrib=mass_distrib_TLG2020,\n",
    "        true_masses=true_masses,\n",
    "        incl=cur_i,\n",
    "    )\n",
    "    estimates_FLO[0, :, n], estimates_FLO[1, :, n] = convolution_TLG2020_fix_incl(\n",
    "        rad_distrib=rad_distrib_FLO,\n",
    "        mass_distrib=mass_distrib_FLO,\n",
    "        true_masses=true_masses,\n",
    "        incl=cur_i,\n",
    "    )"
   ]
  },
  {
   "cell_type": "code",
   "execution_count": 34,
   "id": "0f5277cb",
   "metadata": {},
   "outputs": [
    {
     "name": "stdout",
     "output_type": "stream",
     "text": [
      "(2, 150, 100)\n",
      "(2, 150, 100)\n"
     ]
    }
   ],
   "source": [
    "epsilons_TLG2020 = np.zeros((2, 150, nb_repeat))  # radius and mass for each planet\n",
    "epsilons_FLO = np.zeros((2, 150, nb_repeat))  # radius and mass for each planet\n",
    "\n",
    "epsilons_TLG2020[0] = np.expand_dims(np.log(true_radii), -1) - np.log(estimates_TLG2020[0])\n",
    "epsilons_TLG2020[1] = np.expand_dims(np.log(true_masses), -1) - np.log(estimates_TLG2020[1])\n",
    "print(epsilons_TLG2020.shape)\n",
    "epsilons_FLO[0] = np.expand_dims(np.log(true_radii), -1) - np.log(estimates_FLO[0])\n",
    "epsilons_FLO[1] = np.expand_dims(np.log(true_masses), -1) - np.log(estimates_FLO[1])\n",
    "print(epsilons_FLO.shape)"
   ]
  },
  {
   "cell_type": "code",
   "execution_count": 35,
   "id": "723222fa",
   "metadata": {},
   "outputs": [],
   "source": [
    "my_rad_bins = np.geomspace(1e-1, 1e2, num=101)\n",
    "my_mass_bins = np.geomspace(1e-1, 1e5, num=101)\n",
    "my_weights_FLO = np.ones(mass_distrib_FLO.shape[-1]) / mass_distrib_FLO.shape[-1]\n",
    "my_weights_TLG2020 = np.ones(mass_distrib_TLG2020.shape[-1]) / mass_distrib_TLG2020.shape[-1]"
   ]
  },
  {
   "cell_type": "code",
   "execution_count": 36,
   "id": "e0356eb9",
   "metadata": {},
   "outputs": [
    {
     "data": {
      "image/png": "[encoded data removed]",
      "text/plain": [
       "<Figure size 864x576 with 6 Axes>"
      ]
     },
     "metadata": {
      "needs_background": "light"
     },
     "output_type": "display_data"
    }
   ],
   "source": [
    "fig, ax = plt.subplots(3, 2, figsize=(12, 8))\n",
    "\n",
    "for n1, n2 in enumerate([112, 99, 129]):\n",
    "    true_rad = true_radii[n2] * RJ\n",
    "    true_mass = true_masses[n2] * MJ\n",
    "    imp_rad_FLO = np.mean(estimates_FLO[0, n2, :], axis=-1) * RJ\n",
    "    imp_mass_FLO = np.mean(estimates_FLO[1, n2, :], axis=-1) * MJ\n",
    "    imp_rad_TLG2020 = np.mean(estimates_TLG2020[0, n2, :]) * RJ\n",
    "    imp_mass_TLG2020 = np.mean(estimates_TLG2020[1, n2, :]) * MJ\n",
    "    eps_rad_FLO = np.mean(epsilons_FLO[0, n2, :], axis=-1)\n",
    "    eps_mass_FLO = np.mean(epsilons_FLO[1, n2, :], axis=-1)\n",
    "    eps_rad_TLG2020 = np.mean(epsilons_TLG2020[0, n2, :])\n",
    "    eps_mass_TLG2020 = np.mean(epsilons_TLG2020[1, n2, :])\n",
    "    \n",
    "    ax[n1][0].hist(mass_distrib_TLG2020[n2]*MJ, bins=my_mass_bins, weights=my_weights_TLG2020, color='grey', alpha=0.4)\n",
    "    ax[n1][0].hist(mass_distrib_FLO[n2]*MJ, bins=my_mass_bins, weights=my_weights_FLO, color='C3', alpha=0.4)\n",
    "    ax[n1][0].axvline(true_mass, ls=(0, (3, 3)), c='black', lw=2)\n",
    "    ax[n1][0].axvline(imp_mass_TLG2020, ls=(0, (1, 1)), c='grey', lw=3, label=f'$|\\\\varepsilon|=${np.abs(eps_mass_TLG2020):.2f}')\n",
    "    ax[n1][0].axvline(imp_mass_FLO, ls=(0, (3, 3)), c='C3', lw=2, label=f'$|\\\\varepsilon|=${np.abs(eps_mass_FLO):.2f}')\n",
    "    ax[n1][1].hist(rad_distrib_TLG2020[n2]*RJ, bins=my_rad_bins, weights=my_weights_TLG2020, color='grey', alpha=0.4)\n",
    "    ax[n1][1].hist(rad_distrib_FLO[n2]*RJ, bins=my_rad_bins, weights=my_weights_FLO, color='C3', alpha=0.4)\n",
    "    ax[n1][1].axvline(true_rad, ls=(0, (3, 3)), c='black', lw=2)\n",
    "    ax[n1][1].axvline(imp_rad_TLG2020, ls=(0, (1, 1)), c='grey', lw=3, label=f'$|\\\\varepsilon|=${np.abs(eps_rad_TLG2020):.2f}')\n",
    "    ax[n1][1].axvline(imp_rad_FLO, ls=(0, (3, 3)), c='C3', lw=2, label=f'$|\\\\varepsilon|=${np.abs(eps_rad_FLO):.2f}')\n",
    "    for n3 in range(2):\n",
    "        ax[n1][n3].set_xscale('log')\n",
    "        ax[n1][n3].legend(loc='upper right', prop={'size': 11})\n",
    "    ax[n1][0].set_ylabel('Proportion', size=12)\n",
    "    ax[n1][0].set_title(test_names.iloc[n2], loc='left', size=13)\n",
    "    ax[n1][1].set_title(test_names.iloc[n2], loc='right', size=13)\n",
    "    ax[n1][1].yaxis.tick_right()\n",
    "\n",
    "    props = dict(boxstyle='round', facecolor='grey', alpha=0.1)\n",
    "    ax[n1][1].text(0.02, 0.95, generate_planet_short_bio(n2), transform=ax[n1][1].transAxes, fontsize=10, verticalalignment='top', bbox=props)\n",
    "\n",
    "ax[2][0].set_xlabel('Mass [m$_\\oplus$]', size=12)\n",
    "ax[2][1].set_xlabel('Radius [r$_\\oplus$]', size=12)\n",
    "    \n",
    "fig.tight_layout()\n",
    "plt.savefig('additional_final_figures/comparison_tlg2020_rv_chosen_distributions3.pdf')\n",
    "plt.show()"
   ]
  },
  {
   "cell_type": "code",
   "execution_count": null,
   "id": "2fdd8ad2",
   "metadata": {},
   "outputs": [],
   "source": []
  },
  {
   "cell_type": "code",
   "execution_count": null,
   "id": "17fcb6ee",
   "metadata": {},
   "outputs": [],
   "source": []
  },
  {
   "cell_type": "code",
   "execution_count": null,
   "id": "77d9e126",
   "metadata": {},
   "outputs": [],
   "source": []
  },
  {
   "cell_type": "code",
   "execution_count": null,
   "id": "e6b2abcb",
   "metadata": {},
   "outputs": [],
   "source": []
  }
 ],
 "metadata": {
  "kernelspec": {
   "display_name": "Python 3 (ipykernel)",
   "language": "python",
   "name": "python3"
  },
  "language_info": {
   "codemirror_mode": {
    "name": "ipython",
    "version": 3
   },
   "file_extension": ".py",
   "mimetype": "text/x-python",
   "name": "python",
   "nbconvert_exporter": "python",
   "pygments_lexer": "ipython3",
   "version": "3.11.5"
  }
 },
 "nbformat": 4,
 "nbformat_minor": 5
}

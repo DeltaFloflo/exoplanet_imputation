{
 "cells": [
  {
   "cell_type": "markdown",
   "id": "8e8a1b1a",
   "metadata": {},
   "source": [
    "# Comparison between PS and PSCompPars tables"
   ]
  },
  {
   "cell_type": "code",
   "execution_count": 1,
   "id": "259a9a97",
   "metadata": {},
   "outputs": [],
   "source": [
    "import numpy as np\n",
    "import pandas as pd\n",
    "import matplotlib.pyplot as plt"
   ]
  },
  {
   "cell_type": "code",
   "execution_count": 2,
   "id": "1520f770",
   "metadata": {},
   "outputs": [],
   "source": [
    "ps_table = pd.read_csv(\n",
    "    'PS_2023.02.02_01.39.58.csv',\n",
    "    sep=',',\n",
    "    skiprows=290,  # this allows to fix the pb with '#' as comment (because of some ref having '#')\n",
    "    low_memory=False,\n",
    ")\n",
    "\n",
    "my_table = pd.read_csv(\n",
    "    'exoplanets2023.csv',\n",
    "    sep=',',\n",
    "    usecols=[1, 2, 3, 4, 5, 6, 7, 8, 9, 10, 11, 12, 13],\n",
    "    low_memory=False,\n",
    ")\n",
    "\n",
    "pscp_table = pd.read_csv(\n",
    "    'PSCompPars_2023.02.02_01.41.32.csv',\n",
    "    sep=',',\n",
    "    skiprows=316,  # this allows to fix the pb with '#' as comment (because of some ref having '#')\n",
    "    low_memory=False\n",
    ")"
   ]
  },
  {
   "cell_type": "code",
   "execution_count": 3,
   "id": "377f2f9e",
   "metadata": {},
   "outputs": [
    {
     "name": "stdout",
     "output_type": "stream",
     "text": [
      "(33873, 287)\n",
      "(5251, 13)\n",
      "(5243, 313)\n"
     ]
    }
   ],
   "source": [
    "print(ps_table.shape)\n",
    "print(my_table.shape)\n",
    "print(pscp_table.shape)"
   ]
  },
  {
   "cell_type": "code",
   "execution_count": 113,
   "id": "5254d8c8",
   "metadata": {},
   "outputs": [],
   "source": [
    "SELECTED_FEATURES_PS = [\n",
    "    'pl_name',\n",
    "    'pl_radj',\n",
    "    'pl_bmassj',\n",
    "    'pl_orbper',\n",
    "    'pl_orbeccen',\n",
    "    'pl_orbincl',\n",
    "    'pl_eqt',\n",
    "    'st_mass',\n",
    "    'st_met',\n",
    "    'st_age',\n",
    "    'sy_snum',\n",
    "    'sy_pnum',\n",
    "]\n",
    "\n",
    "SELECTED_FEATURES_PSCP = [\n",
    "    'pl_name',\n",
    "    'pl_radj',\n",
    "    'pl_radj_reflink',\n",
    "    'pl_bmassj',\n",
    "    'pl_bmassprov',\n",
    "    'pl_orbper',\n",
    "    'pl_orbeccen',\n",
    "    'pl_orbincl',\n",
    "    'pl_eqt',\n",
    "    'st_mass',\n",
    "    'st_met',\n",
    "    'st_age',\n",
    "    'sy_snum',\n",
    "    'sy_pnum',\n",
    "]"
   ]
  },
  {
   "cell_type": "code",
   "execution_count": 112,
   "id": "56da2b2c",
   "metadata": {},
   "outputs": [
    {
     "data": {
      "text/html": [
       "<div>\n",
       "<style scoped>\n",
       "    .dataframe tbody tr th:only-of-type {\n",
       "        vertical-align: middle;\n",
       "    }\n",
       "\n",
       "    .dataframe tbody tr th {\n",
       "        vertical-align: top;\n",
       "    }\n",
       "\n",
       "    .dataframe thead th {\n",
       "        text-align: right;\n",
       "    }\n",
       "</style>\n",
       "<table border=\"1\" class=\"dataframe\">\n",
       "  <thead>\n",
       "    <tr style=\"text-align: right;\">\n",
       "      <th></th>\n",
       "      <th>pl_name</th>\n",
       "      <th>pl_orbincl</th>\n",
       "      <th>pl_orbincllim</th>\n",
       "      <th>pl_orbinclerr1</th>\n",
       "      <th>pl_orbinclerr2</th>\n",
       "    </tr>\n",
       "  </thead>\n",
       "  <tbody>\n",
       "    <tr>\n",
       "      <th>5000</th>\n",
       "      <td>WASP-100 b</td>\n",
       "      <td>82.60</td>\n",
       "      <td>0.0</td>\n",
       "      <td>2.150</td>\n",
       "      <td>-2.150</td>\n",
       "    </tr>\n",
       "    <tr>\n",
       "      <th>5001</th>\n",
       "      <td>WASP-101 b</td>\n",
       "      <td>85.00</td>\n",
       "      <td>0.0</td>\n",
       "      <td>0.200</td>\n",
       "      <td>-0.200</td>\n",
       "    </tr>\n",
       "    <tr>\n",
       "      <th>5002</th>\n",
       "      <td>WASP-103 b</td>\n",
       "      <td>86.30</td>\n",
       "      <td>0.0</td>\n",
       "      <td>2.700</td>\n",
       "      <td>-2.700</td>\n",
       "    </tr>\n",
       "    <tr>\n",
       "      <th>5003</th>\n",
       "      <td>WASP-104 b</td>\n",
       "      <td>83.63</td>\n",
       "      <td>0.0</td>\n",
       "      <td>0.250</td>\n",
       "      <td>-0.250</td>\n",
       "    </tr>\n",
       "    <tr>\n",
       "      <th>5004</th>\n",
       "      <td>WASP-105 b</td>\n",
       "      <td>89.70</td>\n",
       "      <td>0.0</td>\n",
       "      <td>0.200</td>\n",
       "      <td>-0.200</td>\n",
       "    </tr>\n",
       "    <tr>\n",
       "      <th>5005</th>\n",
       "      <td>WASP-106 b</td>\n",
       "      <td>89.49</td>\n",
       "      <td>0.0</td>\n",
       "      <td>0.500</td>\n",
       "      <td>-0.500</td>\n",
       "    </tr>\n",
       "    <tr>\n",
       "      <th>5006</th>\n",
       "      <td>WASP-107 b</td>\n",
       "      <td>89.56</td>\n",
       "      <td>0.0</td>\n",
       "      <td>0.078</td>\n",
       "      <td>-0.078</td>\n",
       "    </tr>\n",
       "    <tr>\n",
       "      <th>5007</th>\n",
       "      <td>WASP-107 c</td>\n",
       "      <td>NaN</td>\n",
       "      <td>NaN</td>\n",
       "      <td>NaN</td>\n",
       "      <td>NaN</td>\n",
       "    </tr>\n",
       "    <tr>\n",
       "      <th>5008</th>\n",
       "      <td>WASP-11 b</td>\n",
       "      <td>89.80</td>\n",
       "      <td>0.0</td>\n",
       "      <td>0.500</td>\n",
       "      <td>-0.500</td>\n",
       "    </tr>\n",
       "    <tr>\n",
       "      <th>5009</th>\n",
       "      <td>WASP-110 b</td>\n",
       "      <td>88.16</td>\n",
       "      <td>0.0</td>\n",
       "      <td>0.370</td>\n",
       "      <td>-0.320</td>\n",
       "    </tr>\n",
       "  </tbody>\n",
       "</table>\n",
       "</div>"
      ],
      "text/plain": [
       "         pl_name  pl_orbincl  pl_orbincllim  pl_orbinclerr1  pl_orbinclerr2\n",
       "5000  WASP-100 b       82.60            0.0           2.150          -2.150\n",
       "5001  WASP-101 b       85.00            0.0           0.200          -0.200\n",
       "5002  WASP-103 b       86.30            0.0           2.700          -2.700\n",
       "5003  WASP-104 b       83.63            0.0           0.250          -0.250\n",
       "5004  WASP-105 b       89.70            0.0           0.200          -0.200\n",
       "5005  WASP-106 b       89.49            0.0           0.500          -0.500\n",
       "5006  WASP-107 b       89.56            0.0           0.078          -0.078\n",
       "5007  WASP-107 c         NaN            NaN             NaN             NaN\n",
       "5008   WASP-11 b       89.80            0.0           0.500          -0.500\n",
       "5009  WASP-110 b       88.16            0.0           0.370          -0.320"
      ]
     },
     "execution_count": 112,
     "metadata": {},
     "output_type": "execute_result"
    }
   ],
   "source": [
    "i = 5000\n",
    "pscp_table[['pl_name', 'pl_orbincl', 'pl_orbincllim', 'pl_orbinclerr1', 'pl_orbinclerr2']].iloc[i:(i+10)]"
   ]
  },
  {
   "cell_type": "code",
   "execution_count": 113,
   "id": "0b6a4b34",
   "metadata": {},
   "outputs": [
    {
     "data": {
      "text/html": [
       "<div>\n",
       "<style scoped>\n",
       "    .dataframe tbody tr th:only-of-type {\n",
       "        vertical-align: middle;\n",
       "    }\n",
       "\n",
       "    .dataframe tbody tr th {\n",
       "        vertical-align: top;\n",
       "    }\n",
       "\n",
       "    .dataframe thead th {\n",
       "        text-align: right;\n",
       "    }\n",
       "</style>\n",
       "<table border=\"1\" class=\"dataframe\">\n",
       "  <thead>\n",
       "    <tr style=\"text-align: right;\">\n",
       "      <th></th>\n",
       "      <th>pl_name</th>\n",
       "      <th>pl_orbincl</th>\n",
       "    </tr>\n",
       "  </thead>\n",
       "  <tbody>\n",
       "    <tr>\n",
       "      <th>5000</th>\n",
       "      <td>WASP-100 b</td>\n",
       "      <td>82.600000</td>\n",
       "    </tr>\n",
       "    <tr>\n",
       "      <th>5001</th>\n",
       "      <td>WASP-101 b</td>\n",
       "      <td>85.000000</td>\n",
       "    </tr>\n",
       "    <tr>\n",
       "      <th>5002</th>\n",
       "      <td>WASP-103 b</td>\n",
       "      <td>86.300000</td>\n",
       "    </tr>\n",
       "    <tr>\n",
       "      <th>5003</th>\n",
       "      <td>WASP-104 b</td>\n",
       "      <td>83.630000</td>\n",
       "    </tr>\n",
       "    <tr>\n",
       "      <th>5004</th>\n",
       "      <td>WASP-105 b</td>\n",
       "      <td>89.700000</td>\n",
       "    </tr>\n",
       "    <tr>\n",
       "      <th>5005</th>\n",
       "      <td>WASP-106 b</td>\n",
       "      <td>89.490000</td>\n",
       "    </tr>\n",
       "    <tr>\n",
       "      <th>5006</th>\n",
       "      <td>WASP-107 b</td>\n",
       "      <td>89.686667</td>\n",
       "    </tr>\n",
       "    <tr>\n",
       "      <th>5007</th>\n",
       "      <td>WASP-107 c</td>\n",
       "      <td>NaN</td>\n",
       "    </tr>\n",
       "    <tr>\n",
       "      <th>5008</th>\n",
       "      <td>WASP-11 b</td>\n",
       "      <td>89.800000</td>\n",
       "    </tr>\n",
       "    <tr>\n",
       "      <th>5009</th>\n",
       "      <td>WASP-110 b</td>\n",
       "      <td>88.160000</td>\n",
       "    </tr>\n",
       "  </tbody>\n",
       "</table>\n",
       "</div>"
      ],
      "text/plain": [
       "         pl_name  pl_orbincl\n",
       "5000  WASP-100 b   82.600000\n",
       "5001  WASP-101 b   85.000000\n",
       "5002  WASP-103 b   86.300000\n",
       "5003  WASP-104 b   83.630000\n",
       "5004  WASP-105 b   89.700000\n",
       "5005  WASP-106 b   89.490000\n",
       "5006  WASP-107 b   89.686667\n",
       "5007  WASP-107 c         NaN\n",
       "5008   WASP-11 b   89.800000\n",
       "5009  WASP-110 b   88.160000"
      ]
     },
     "execution_count": 113,
     "metadata": {},
     "output_type": "execute_result"
    }
   ],
   "source": [
    "my_table[['pl_name', 'pl_orbincl']].iloc[i:(i+10)]"
   ]
  },
  {
   "cell_type": "code",
   "execution_count": 68,
   "id": "e29b57df",
   "metadata": {},
   "outputs": [
    {
     "data": {
      "text/html": [
       "<div>\n",
       "<style scoped>\n",
       "    .dataframe tbody tr th:only-of-type {\n",
       "        vertical-align: middle;\n",
       "    }\n",
       "\n",
       "    .dataframe tbody tr th {\n",
       "        vertical-align: top;\n",
       "    }\n",
       "\n",
       "    .dataframe thead th {\n",
       "        text-align: right;\n",
       "    }\n",
       "</style>\n",
       "<table border=\"1\" class=\"dataframe\">\n",
       "  <thead>\n",
       "    <tr style=\"text-align: right;\">\n",
       "      <th></th>\n",
       "      <th>pl_name</th>\n",
       "      <th>default_flag</th>\n",
       "      <th>pl_orbeccen</th>\n",
       "      <th>pl_orbeccenlim</th>\n",
       "      <th>pl_orbeccenerr1</th>\n",
       "      <th>pl_orbeccenerr2</th>\n",
       "    </tr>\n",
       "  </thead>\n",
       "  <tbody>\n",
       "    <tr>\n",
       "      <th>33209</th>\n",
       "      <td>WASP-4 b</td>\n",
       "      <td>0</td>\n",
       "      <td>NaN</td>\n",
       "      <td>NaN</td>\n",
       "      <td>NaN</td>\n",
       "      <td>NaN</td>\n",
       "    </tr>\n",
       "    <tr>\n",
       "      <th>33210</th>\n",
       "      <td>WASP-4 b</td>\n",
       "      <td>0</td>\n",
       "      <td>0.0033</td>\n",
       "      <td>1.0</td>\n",
       "      <td>NaN</td>\n",
       "      <td>NaN</td>\n",
       "    </tr>\n",
       "    <tr>\n",
       "      <th>33211</th>\n",
       "      <td>WASP-4 b</td>\n",
       "      <td>0</td>\n",
       "      <td>0.0000</td>\n",
       "      <td>0.0</td>\n",
       "      <td>NaN</td>\n",
       "      <td>NaN</td>\n",
       "    </tr>\n",
       "    <tr>\n",
       "      <th>33212</th>\n",
       "      <td>WASP-4 b</td>\n",
       "      <td>0</td>\n",
       "      <td>NaN</td>\n",
       "      <td>NaN</td>\n",
       "      <td>NaN</td>\n",
       "      <td>NaN</td>\n",
       "    </tr>\n",
       "    <tr>\n",
       "      <th>33213</th>\n",
       "      <td>WASP-4 b</td>\n",
       "      <td>0</td>\n",
       "      <td>0.0182</td>\n",
       "      <td>1.0</td>\n",
       "      <td>NaN</td>\n",
       "      <td>NaN</td>\n",
       "    </tr>\n",
       "    <tr>\n",
       "      <th>33214</th>\n",
       "      <td>WASP-4 b</td>\n",
       "      <td>0</td>\n",
       "      <td>NaN</td>\n",
       "      <td>NaN</td>\n",
       "      <td>NaN</td>\n",
       "      <td>NaN</td>\n",
       "    </tr>\n",
       "    <tr>\n",
       "      <th>33215</th>\n",
       "      <td>WASP-4 b</td>\n",
       "      <td>1</td>\n",
       "      <td>0.0000</td>\n",
       "      <td>0.0</td>\n",
       "      <td>NaN</td>\n",
       "      <td>NaN</td>\n",
       "    </tr>\n",
       "    <tr>\n",
       "      <th>33216</th>\n",
       "      <td>WASP-4 b</td>\n",
       "      <td>0</td>\n",
       "      <td>NaN</td>\n",
       "      <td>NaN</td>\n",
       "      <td>NaN</td>\n",
       "      <td>NaN</td>\n",
       "    </tr>\n",
       "    <tr>\n",
       "      <th>33217</th>\n",
       "      <td>WASP-4 b</td>\n",
       "      <td>0</td>\n",
       "      <td>NaN</td>\n",
       "      <td>NaN</td>\n",
       "      <td>NaN</td>\n",
       "      <td>NaN</td>\n",
       "    </tr>\n",
       "    <tr>\n",
       "      <th>33218</th>\n",
       "      <td>WASP-4 b</td>\n",
       "      <td>0</td>\n",
       "      <td>NaN</td>\n",
       "      <td>NaN</td>\n",
       "      <td>NaN</td>\n",
       "      <td>NaN</td>\n",
       "    </tr>\n",
       "    <tr>\n",
       "      <th>33219</th>\n",
       "      <td>WASP-4 b</td>\n",
       "      <td>0</td>\n",
       "      <td>NaN</td>\n",
       "      <td>NaN</td>\n",
       "      <td>NaN</td>\n",
       "      <td>NaN</td>\n",
       "    </tr>\n",
       "    <tr>\n",
       "      <th>33220</th>\n",
       "      <td>WASP-4 b</td>\n",
       "      <td>0</td>\n",
       "      <td>0.0034</td>\n",
       "      <td>0.0</td>\n",
       "      <td>0.0074</td>\n",
       "      <td>-0.0026</td>\n",
       "    </tr>\n",
       "    <tr>\n",
       "      <th>33221</th>\n",
       "      <td>WASP-4 b</td>\n",
       "      <td>0</td>\n",
       "      <td>NaN</td>\n",
       "      <td>NaN</td>\n",
       "      <td>NaN</td>\n",
       "      <td>NaN</td>\n",
       "    </tr>\n",
       "    <tr>\n",
       "      <th>33222</th>\n",
       "      <td>WASP-4 b</td>\n",
       "      <td>0</td>\n",
       "      <td>NaN</td>\n",
       "      <td>NaN</td>\n",
       "      <td>NaN</td>\n",
       "      <td>NaN</td>\n",
       "    </tr>\n",
       "    <tr>\n",
       "      <th>33223</th>\n",
       "      <td>WASP-4 b</td>\n",
       "      <td>0</td>\n",
       "      <td>0.0000</td>\n",
       "      <td>0.0</td>\n",
       "      <td>NaN</td>\n",
       "      <td>NaN</td>\n",
       "    </tr>\n",
       "    <tr>\n",
       "      <th>33224</th>\n",
       "      <td>WASP-4 b</td>\n",
       "      <td>0</td>\n",
       "      <td>0.0000</td>\n",
       "      <td>0.0</td>\n",
       "      <td>NaN</td>\n",
       "      <td>NaN</td>\n",
       "    </tr>\n",
       "    <tr>\n",
       "      <th>33225</th>\n",
       "      <td>WASP-4 b</td>\n",
       "      <td>0</td>\n",
       "      <td>0.0000</td>\n",
       "      <td>0.0</td>\n",
       "      <td>NaN</td>\n",
       "      <td>NaN</td>\n",
       "    </tr>\n",
       "  </tbody>\n",
       "</table>\n",
       "</div>"
      ],
      "text/plain": [
       "        pl_name  default_flag  pl_orbeccen  pl_orbeccenlim  pl_orbeccenerr1  \\\n",
       "33209  WASP-4 b             0          NaN             NaN              NaN   \n",
       "33210  WASP-4 b             0       0.0033             1.0              NaN   \n",
       "33211  WASP-4 b             0       0.0000             0.0              NaN   \n",
       "33212  WASP-4 b             0          NaN             NaN              NaN   \n",
       "33213  WASP-4 b             0       0.0182             1.0              NaN   \n",
       "33214  WASP-4 b             0          NaN             NaN              NaN   \n",
       "33215  WASP-4 b             1       0.0000             0.0              NaN   \n",
       "33216  WASP-4 b             0          NaN             NaN              NaN   \n",
       "33217  WASP-4 b             0          NaN             NaN              NaN   \n",
       "33218  WASP-4 b             0          NaN             NaN              NaN   \n",
       "33219  WASP-4 b             0          NaN             NaN              NaN   \n",
       "33220  WASP-4 b             0       0.0034             0.0           0.0074   \n",
       "33221  WASP-4 b             0          NaN             NaN              NaN   \n",
       "33222  WASP-4 b             0          NaN             NaN              NaN   \n",
       "33223  WASP-4 b             0       0.0000             0.0              NaN   \n",
       "33224  WASP-4 b             0       0.0000             0.0              NaN   \n",
       "33225  WASP-4 b             0       0.0000             0.0              NaN   \n",
       "\n",
       "       pl_orbeccenerr2  \n",
       "33209              NaN  \n",
       "33210              NaN  \n",
       "33211              NaN  \n",
       "33212              NaN  \n",
       "33213              NaN  \n",
       "33214              NaN  \n",
       "33215              NaN  \n",
       "33216              NaN  \n",
       "33217              NaN  \n",
       "33218              NaN  \n",
       "33219              NaN  \n",
       "33220          -0.0026  \n",
       "33221              NaN  \n",
       "33222              NaN  \n",
       "33223              NaN  \n",
       "33224              NaN  \n",
       "33225              NaN  "
      ]
     },
     "execution_count": 68,
     "metadata": {},
     "output_type": "execute_result"
    }
   ],
   "source": [
    "temp_name = 'WASP-4 b'\n",
    "mask = (ps_table['pl_name']==temp_name)\n",
    "ps_table[mask][['pl_name', 'default_flag', 'pl_orbeccen', 'pl_orbeccenlim', 'pl_orbeccenerr1', 'pl_orbeccenerr2']]"
   ]
  },
  {
   "cell_type": "code",
   "execution_count": null,
   "id": "9607bffc",
   "metadata": {},
   "outputs": [],
   "source": []
  },
  {
   "cell_type": "code",
   "execution_count": 44,
   "id": "465d6c98",
   "metadata": {},
   "outputs": [
    {
     "data": {
      "text/plain": [
       " 0.0    19146\n",
       " NaN    14262\n",
       " 1.0      452\n",
       "-1.0       12\n",
       " 9.0        1\n",
       "Name: pl_orbeccenlim, dtype: int64"
      ]
     },
     "execution_count": 44,
     "metadata": {},
     "output_type": "execute_result"
    }
   ],
   "source": [
    "pd.value_counts(ps_table['pl_orbeccenlim'], dropna=False)"
   ]
  },
  {
   "cell_type": "code",
   "execution_count": 54,
   "id": "ec7671de",
   "metadata": {},
   "outputs": [
    {
     "data": {
      "text/plain": [
       "0.7137135227922945"
      ]
     },
     "execution_count": 54,
     "metadata": {},
     "output_type": "execute_result"
    }
   ],
   "source": []
  },
  {
   "cell_type": "code",
   "execution_count": 94,
   "id": "c0d523cb",
   "metadata": {},
   "outputs": [
    {
     "data": {
      "text/plain": [
       "0.210375739080679"
      ]
     },
     "execution_count": 94,
     "metadata": {},
     "output_type": "execute_result"
    }
   ],
   "source": [
    "pd.isna(pscp_table['st_age']).mean()"
   ]
  },
  {
   "cell_type": "code",
   "execution_count": 100,
   "id": "4d4a2ece",
   "metadata": {},
   "outputs": [
    {
     "data": {
      "text/plain": [
       " 0.0    17696\n",
       " NaN    16032\n",
       "-1.0      124\n",
       " 1.0       21\n",
       "Name: st_agelim, dtype: int64"
      ]
     },
     "execution_count": 100,
     "metadata": {},
     "output_type": "execute_result"
    }
   ],
   "source": [
    "pd.value_counts(ps_table['st_agelim'], dropna=False)"
   ]
  },
  {
   "cell_type": "code",
   "execution_count": 18,
   "id": "d5b4420e",
   "metadata": {},
   "outputs": [
    {
     "data": {
      "image/png": "[encoded data removed]",
      "text/plain": [
       "<Figure size 720x360 with 1 Axes>"
      ]
     },
     "metadata": {
      "needs_background": "light"
     },
     "output_type": "display_data"
    }
   ],
   "source": [
    "plt.figure(figsize=(10, 5))\n",
    "plt.hist(pscp_table['pl_orbincl'], bins=200)\n",
    "plt.plot([90, 90], [0, 1500], ls='--', c='black', lw=2)\n",
    "plt.xlabel('Planet orbital inclination (in degres)', size=12)\n",
    "plt.ylabel('Counts')\n",
    "plt.savefig('planet_orbincl_distrib.pdf')\n",
    "plt.show()"
   ]
  },
  {
   "cell_type": "code",
   "execution_count": 120,
   "id": "f27ec6ca",
   "metadata": {},
   "outputs": [
    {
     "data": {
      "text/plain": [
       "NaN               2981\n",
       "Mass              1424\n",
       "Msini              844\n",
       "Msin(i)/sin(i)       2\n",
       "Name: pl_bmassprov, dtype: int64"
      ]
     },
     "execution_count": 120,
     "metadata": {},
     "output_type": "execute_result"
    }
   ],
   "source": [
    "pd.value_counts(my_table['pl_bmassprov'], dropna=False)"
   ]
  },
  {
   "cell_type": "code",
   "execution_count": 121,
   "id": "2514a030",
   "metadata": {},
   "outputs": [
    {
     "data": {
      "text/plain": [
       "(5251, 13)"
      ]
     },
     "execution_count": 121,
     "metadata": {},
     "output_type": "execute_result"
    }
   ],
   "source": [
    "my_table.shape"
   ]
  },
  {
   "cell_type": "code",
   "execution_count": 125,
   "id": "df2100cb",
   "metadata": {},
   "outputs": [
    {
     "data": {
      "text/plain": [
       "0.27156732051037896"
      ]
     },
     "execution_count": 125,
     "metadata": {},
     "output_type": "execute_result"
    }
   ],
   "source": [
    "1426/5251"
   ]
  },
  {
   "cell_type": "code",
   "execution_count": null,
   "id": "fce93340",
   "metadata": {},
   "outputs": [],
   "source": []
  }
 ],
 "metadata": {
  "kernelspec": {
   "display_name": "Python 3 (ipykernel)",
   "language": "python",
   "name": "python3"
  },
  "language_info": {
   "codemirror_mode": {
    "name": "ipython",
    "version": 3
   },
   "file_extension": ".py",
   "mimetype": "text/x-python",
   "name": "python",
   "nbconvert_exporter": "python",
   "pygments_lexer": "ipython3",
   "version": "3.7.13"
  }
 },
 "nbformat": 4,
 "nbformat_minor": 5
}
